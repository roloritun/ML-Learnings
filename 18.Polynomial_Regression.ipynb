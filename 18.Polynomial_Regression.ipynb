{
 "cells": [
  {
   "cell_type": "markdown",
   "metadata": {},
   "source": [
    "# Polynomial Regression"
   ]
  },
  {
   "cell_type": "markdown",
   "metadata": {},
   "source": [
    "### Importing dataset"
   ]
  },
  {
   "cell_type": "code",
   "execution_count": 1,
   "metadata": {},
   "outputs": [
    {
     "data": {
      "text/html": [
       "<div>\n",
       "<style scoped>\n",
       "    .dataframe tbody tr th:only-of-type {\n",
       "        vertical-align: middle;\n",
       "    }\n",
       "\n",
       "    .dataframe tbody tr th {\n",
       "        vertical-align: top;\n",
       "    }\n",
       "\n",
       "    .dataframe thead th {\n",
       "        text-align: right;\n",
       "    }\n",
       "</style>\n",
       "<table border=\"1\" class=\"dataframe\">\n",
       "  <thead>\n",
       "    <tr style=\"text-align: right;\">\n",
       "      <th></th>\n",
       "      <th>height</th>\n",
       "      <th>weight</th>\n",
       "      <th>age</th>\n",
       "      <th>male</th>\n",
       "    </tr>\n",
       "  </thead>\n",
       "  <tbody>\n",
       "    <tr>\n",
       "      <th>0</th>\n",
       "      <td>151.765</td>\n",
       "      <td>47.825606</td>\n",
       "      <td>63.0</td>\n",
       "      <td>1</td>\n",
       "    </tr>\n",
       "    <tr>\n",
       "      <th>1</th>\n",
       "      <td>139.700</td>\n",
       "      <td>36.485807</td>\n",
       "      <td>63.0</td>\n",
       "      <td>0</td>\n",
       "    </tr>\n",
       "    <tr>\n",
       "      <th>2</th>\n",
       "      <td>136.525</td>\n",
       "      <td>31.864838</td>\n",
       "      <td>65.0</td>\n",
       "      <td>0</td>\n",
       "    </tr>\n",
       "    <tr>\n",
       "      <th>3</th>\n",
       "      <td>156.845</td>\n",
       "      <td>53.041915</td>\n",
       "      <td>41.0</td>\n",
       "      <td>1</td>\n",
       "    </tr>\n",
       "    <tr>\n",
       "      <th>4</th>\n",
       "      <td>145.415</td>\n",
       "      <td>41.276872</td>\n",
       "      <td>51.0</td>\n",
       "      <td>0</td>\n",
       "    </tr>\n",
       "  </tbody>\n",
       "</table>\n",
       "</div>"
      ],
      "text/plain": [
       "    height     weight   age  male\n",
       "0  151.765  47.825606  63.0     1\n",
       "1  139.700  36.485807  63.0     0\n",
       "2  136.525  31.864838  65.0     0\n",
       "3  156.845  53.041915  41.0     1\n",
       "4  145.415  41.276872  51.0     0"
      ]
     },
     "execution_count": 1,
     "metadata": {},
     "output_type": "execute_result"
    }
   ],
   "source": [
    "import pandas as pd\n",
    "\n",
    "kung_san_data = pd.read_csv('height_weight_gender_Kung_San.csv')\n",
    "kung_san_data.head()"
   ]
  },
  {
   "cell_type": "markdown",
   "metadata": {},
   "source": [
    "### We want to predict weight based on person's height\n",
    "Here the predictor variable x = 'height' and target variable y = 'weight'"
   ]
  },
  {
   "cell_type": "code",
   "execution_count": 6,
   "metadata": {},
   "outputs": [
    {
     "data": {
      "text/plain": [
       "array([151.765 , 139.7   , 136.525 , 156.845 , 145.415 , 163.83  ,\n",
       "       149.225 , 168.91  , 147.955 , 165.1   , 154.305 , 151.13  ,\n",
       "       144.78  , 149.9   , 150.495 , 163.195 , 157.48  , 143.9418,\n",
       "       121.92  , 105.41  ,  86.36  , 161.29  , 156.21  , 129.54  ,\n",
       "       109.22  , 146.4   , 148.59  , 147.32  , 137.16  , 125.73  ,\n",
       "       114.3   , 147.955 , 161.925 , 146.05  , 146.05  , 152.7048,\n",
       "       142.875 , 142.875 , 147.955 , 160.655 , 151.765 , 162.8648,\n",
       "       171.45  , 147.32  , 147.955 , 144.78  , 121.92  , 128.905 ,\n",
       "        97.79  , 154.305 , 143.51  , 146.7   , 157.48  , 127.    ,\n",
       "       110.49  ,  97.79  , 165.735 , 152.4   , 141.605 , 158.8   ,\n",
       "       155.575 , 164.465 , 151.765 , 161.29  , 154.305 , 145.415 ,\n",
       "       145.415 , 152.4   , 163.83  , 144.145 , 129.54  , 129.54  ,\n",
       "       153.67  , 142.875 , 146.05  , 167.005 , 158.4198,  91.44  ,\n",
       "       165.735 , 149.86  , 147.955 , 137.795 , 154.94  , 160.9598,\n",
       "       161.925 , 147.955 , 113.665 , 159.385 , 148.59  , 136.525 ,\n",
       "       158.115 , 144.78  , 156.845 , 179.07  , 118.745 , 170.18  ,\n",
       "       146.05  , 147.32  , 113.03  , 162.56  , 133.985 , 152.4   ,\n",
       "       160.02  , 149.86  , 142.875 , 167.005 , 159.385 , 154.94  ,\n",
       "       148.59  , 111.125 , 111.76  , 162.56  , 152.4   , 124.46  ,\n",
       "       111.76  ,  86.36  , 170.18  , 146.05  , 159.385 , 151.13  ,\n",
       "       160.655 , 169.545 , 158.75  ,  74.295 , 149.86  , 153.035 ,\n",
       "        96.52  , 161.925 , 162.56  , 149.225 , 116.84  , 100.076 ,\n",
       "       163.195 , 161.925 , 145.415 , 163.195 , 151.13  , 150.495 ,\n",
       "       141.605 , 170.815 ,  91.44  , 157.48  , 152.4   , 149.225 ,\n",
       "       129.54  , 147.32  , 145.415 , 121.92  , 113.665 , 157.48  ,\n",
       "       154.305 , 120.65  , 115.6   , 167.005 , 142.875 , 152.4   ,\n",
       "        96.52  , 160.    , 159.385 , 149.86  , 160.655 , 160.655 ,\n",
       "       149.225 , 125.095 , 140.97  , 154.94  , 141.605 , 160.02  ,\n",
       "       150.1648, 155.575 , 103.505 ,  94.615 , 156.21  , 153.035 ,\n",
       "       167.005 , 149.86  , 147.955 , 159.385 , 161.925 , 155.575 ,\n",
       "       159.385 , 146.685 , 172.72  , 166.37  , 141.605 , 142.875 ,\n",
       "       133.35  , 127.635 , 119.38  , 151.765 , 156.845 , 148.59  ,\n",
       "       157.48  , 149.86  , 147.955 , 102.235 , 153.035 , 160.655 ,\n",
       "       149.225 , 114.3   , 100.965 , 138.43  ,  91.44  , 162.56  ,\n",
       "       149.225 , 158.75  , 149.86  , 158.115 , 156.21  , 148.59  ,\n",
       "       143.51  , 154.305 , 131.445 , 157.48  , 157.48  , 154.305 ,\n",
       "       107.95  , 168.275 , 145.415 , 147.955 , 100.965 , 113.03  ,\n",
       "       149.225 , 154.94  , 162.56  , 156.845 , 123.19  , 161.0106,\n",
       "       144.78  , 143.51  , 149.225 , 110.49  , 149.86  , 165.735 ,\n",
       "       144.145 , 157.48  , 154.305 , 163.83  , 156.21  , 153.67  ,\n",
       "       134.62  , 144.145 , 114.3   , 162.56  , 146.05  , 120.65  ,\n",
       "       154.94  , 144.78  , 106.68  , 146.685 , 152.4   , 163.83  ,\n",
       "       165.735 , 156.21  , 152.4   , 140.335 , 158.115 , 163.195 ,\n",
       "       151.13  , 171.1198, 149.86  , 163.83  , 141.605 ,  93.98  ,\n",
       "       149.225 , 105.41  , 146.05  , 161.29  , 162.56  , 145.415 ,\n",
       "       145.415 , 170.815 , 127.    , 159.385 , 159.4   , 153.67  ,\n",
       "       160.02  , 150.495 , 149.225 , 127.    , 142.875 , 142.113 ,\n",
       "       147.32  , 162.56  , 164.465 , 160.02  , 153.67  , 167.005 ,\n",
       "       151.13  , 147.955 , 125.3998, 111.125 , 153.035 , 139.065 ,\n",
       "       152.4   , 154.94  , 147.955 , 143.51  , 117.983 , 144.145 ,\n",
       "        92.71  , 147.955 , 155.575 , 150.495 , 155.575 , 154.305 ,\n",
       "       130.6068, 101.6   , 157.48  , 168.91  , 150.495 , 111.76  ,\n",
       "       160.02  , 167.64  , 144.145 , 145.415 , 160.02  , 147.32  ,\n",
       "       164.465 , 153.035 , 149.225 , 160.02  , 149.225 ,  85.09  ,\n",
       "        84.455 ,  59.6138,  92.71  , 111.125 ,  90.805 , 153.67  ,\n",
       "        99.695 ,  62.484 ,  81.915 ,  96.52  ,  80.01  , 150.495 ,\n",
       "       151.765 , 140.6398,  88.265 , 158.115 , 149.225 , 151.765 ,\n",
       "       154.94  , 123.825 , 104.14  , 161.29  , 148.59  ,  97.155 ,\n",
       "        93.345 , 160.655 , 157.48  , 167.005 , 157.48  ,  91.44  ,\n",
       "        60.452 , 137.16  , 152.4   , 152.4   ,  81.28  , 109.22  ,\n",
       "        71.12  ,  89.2048,  67.31  ,  85.09  ,  69.85  , 161.925 ,\n",
       "       152.4   ,  88.9   ,  90.17  ,  71.755 ,  83.82  , 159.385 ,\n",
       "       142.24  , 142.24  , 168.91  , 123.19  ,  74.93  ,  74.295 ,\n",
       "        90.805 , 160.02  ,  67.945 , 135.89  , 158.115 ,  85.09  ,\n",
       "        93.345 , 152.4   , 155.575 , 154.305 , 156.845 , 120.015 ,\n",
       "       114.3   ,  83.82  , 156.21  , 137.16  , 114.3   ,  93.98  ,\n",
       "       168.275 , 147.955 , 139.7   , 157.48  ,  76.2   ,  66.04  ,\n",
       "       160.7   , 114.3   , 146.05  , 161.29  ,  69.85  , 133.985 ,\n",
       "        67.945 , 150.495 , 163.195 , 148.59  , 148.59  , 161.925 ,\n",
       "       153.67  ,  68.58  , 151.13  , 163.83  , 153.035 , 151.765 ,\n",
       "       132.08  , 156.21  , 140.335 , 158.75  , 142.875 ,  84.455 ,\n",
       "       151.9428, 161.29  , 127.9906, 160.9852, 144.78  , 132.08  ,\n",
       "       117.983 , 160.02  , 154.94  , 160.9852, 165.989 , 157.988 ,\n",
       "       154.94  ,  97.9932,  64.135 , 160.655 , 147.32  , 146.7   ,\n",
       "       147.32  , 172.9994, 158.115 , 147.32  , 124.9934, 106.045 ,\n",
       "       165.989 , 149.86  ,  76.2   , 161.925 , 140.0048,  66.675 ,\n",
       "        62.865 , 163.83  , 147.955 , 160.02  , 154.94  , 152.4   ,\n",
       "        62.23  , 146.05  , 151.9936, 157.48  ,  55.88  ,  60.96  ,\n",
       "       151.765 , 144.78  , 118.11  ,  78.105 , 160.655 , 151.13  ,\n",
       "       121.92  ,  92.71  , 153.67  , 147.32  , 139.7   , 157.48  ,\n",
       "        91.44  , 154.94  , 143.51  ,  83.185 , 158.115 , 147.32  ,\n",
       "       123.825 ,  88.9   , 160.02  , 137.16  , 165.1   , 154.94  ,\n",
       "       111.125 , 153.67  , 145.415 , 141.605 , 144.78  , 163.83  ,\n",
       "       161.29  , 154.9   , 161.3   , 170.18  , 149.86  , 123.825 ,\n",
       "        85.09  , 160.655 , 154.94  , 106.045 , 126.365 , 166.37  ,\n",
       "       148.2852, 124.46  ,  89.535 , 101.6   , 151.765 , 148.59  ,\n",
       "       153.67  ,  53.975 , 146.685 ,  56.515 , 100.965 , 121.92  ,\n",
       "        81.5848, 154.94  , 156.21  , 132.715 , 125.095 , 101.6   ,\n",
       "       160.655 , 146.05  , 132.715 ,  87.63  , 156.21  , 152.4   ,\n",
       "       162.56  , 114.935 ,  67.945 , 142.875 ,  76.835 , 145.415 ,\n",
       "       162.56  , 156.21  ,  71.12  , 158.75  ])"
      ]
     },
     "execution_count": 6,
     "metadata": {},
     "output_type": "execute_result"
    }
   ],
   "source": [
    "y = kung_san_data['weight'].values\n",
    "x = kung_san_data['height'].values\n",
    "\n",
    "type(y)\n",
    "x"
   ]
  },
  {
   "cell_type": "markdown",
   "metadata": {},
   "source": [
    "### We shall use Scikit Learn Library"
   ]
  },
  {
   "cell_type": "code",
   "execution_count": 13,
   "metadata": {},
   "outputs": [
    {
     "data": {
      "text/plain": [
       "array([[151.765 ],\n",
       "       [139.7   ],\n",
       "       [136.525 ],\n",
       "       [156.845 ],\n",
       "       [145.415 ],\n",
       "       [163.83  ],\n",
       "       [149.225 ],\n",
       "       [168.91  ],\n",
       "       [147.955 ],\n",
       "       [165.1   ],\n",
       "       [154.305 ],\n",
       "       [151.13  ],\n",
       "       [144.78  ],\n",
       "       [149.9   ],\n",
       "       [150.495 ],\n",
       "       [163.195 ],\n",
       "       [157.48  ],\n",
       "       [143.9418],\n",
       "       [121.92  ],\n",
       "       [105.41  ],\n",
       "       [ 86.36  ],\n",
       "       [161.29  ],\n",
       "       [156.21  ],\n",
       "       [129.54  ],\n",
       "       [109.22  ],\n",
       "       [146.4   ],\n",
       "       [148.59  ],\n",
       "       [147.32  ],\n",
       "       [137.16  ],\n",
       "       [125.73  ],\n",
       "       [114.3   ],\n",
       "       [147.955 ],\n",
       "       [161.925 ],\n",
       "       [146.05  ],\n",
       "       [146.05  ],\n",
       "       [152.7048],\n",
       "       [142.875 ],\n",
       "       [142.875 ],\n",
       "       [147.955 ],\n",
       "       [160.655 ],\n",
       "       [151.765 ],\n",
       "       [162.8648],\n",
       "       [171.45  ],\n",
       "       [147.32  ],\n",
       "       [147.955 ],\n",
       "       [144.78  ],\n",
       "       [121.92  ],\n",
       "       [128.905 ],\n",
       "       [ 97.79  ],\n",
       "       [154.305 ],\n",
       "       [143.51  ],\n",
       "       [146.7   ],\n",
       "       [157.48  ],\n",
       "       [127.    ],\n",
       "       [110.49  ],\n",
       "       [ 97.79  ],\n",
       "       [165.735 ],\n",
       "       [152.4   ],\n",
       "       [141.605 ],\n",
       "       [158.8   ],\n",
       "       [155.575 ],\n",
       "       [164.465 ],\n",
       "       [151.765 ],\n",
       "       [161.29  ],\n",
       "       [154.305 ],\n",
       "       [145.415 ],\n",
       "       [145.415 ],\n",
       "       [152.4   ],\n",
       "       [163.83  ],\n",
       "       [144.145 ],\n",
       "       [129.54  ],\n",
       "       [129.54  ],\n",
       "       [153.67  ],\n",
       "       [142.875 ],\n",
       "       [146.05  ],\n",
       "       [167.005 ],\n",
       "       [158.4198],\n",
       "       [ 91.44  ],\n",
       "       [165.735 ],\n",
       "       [149.86  ],\n",
       "       [147.955 ],\n",
       "       [137.795 ],\n",
       "       [154.94  ],\n",
       "       [160.9598],\n",
       "       [161.925 ],\n",
       "       [147.955 ],\n",
       "       [113.665 ],\n",
       "       [159.385 ],\n",
       "       [148.59  ],\n",
       "       [136.525 ],\n",
       "       [158.115 ],\n",
       "       [144.78  ],\n",
       "       [156.845 ],\n",
       "       [179.07  ],\n",
       "       [118.745 ],\n",
       "       [170.18  ],\n",
       "       [146.05  ],\n",
       "       [147.32  ],\n",
       "       [113.03  ],\n",
       "       [162.56  ],\n",
       "       [133.985 ],\n",
       "       [152.4   ],\n",
       "       [160.02  ],\n",
       "       [149.86  ],\n",
       "       [142.875 ],\n",
       "       [167.005 ],\n",
       "       [159.385 ],\n",
       "       [154.94  ],\n",
       "       [148.59  ],\n",
       "       [111.125 ],\n",
       "       [111.76  ],\n",
       "       [162.56  ],\n",
       "       [152.4   ],\n",
       "       [124.46  ],\n",
       "       [111.76  ],\n",
       "       [ 86.36  ],\n",
       "       [170.18  ],\n",
       "       [146.05  ],\n",
       "       [159.385 ],\n",
       "       [151.13  ],\n",
       "       [160.655 ],\n",
       "       [169.545 ],\n",
       "       [158.75  ],\n",
       "       [ 74.295 ],\n",
       "       [149.86  ],\n",
       "       [153.035 ],\n",
       "       [ 96.52  ],\n",
       "       [161.925 ],\n",
       "       [162.56  ],\n",
       "       [149.225 ],\n",
       "       [116.84  ],\n",
       "       [100.076 ],\n",
       "       [163.195 ],\n",
       "       [161.925 ],\n",
       "       [145.415 ],\n",
       "       [163.195 ],\n",
       "       [151.13  ],\n",
       "       [150.495 ],\n",
       "       [141.605 ],\n",
       "       [170.815 ],\n",
       "       [ 91.44  ],\n",
       "       [157.48  ],\n",
       "       [152.4   ],\n",
       "       [149.225 ],\n",
       "       [129.54  ],\n",
       "       [147.32  ],\n",
       "       [145.415 ],\n",
       "       [121.92  ],\n",
       "       [113.665 ],\n",
       "       [157.48  ],\n",
       "       [154.305 ],\n",
       "       [120.65  ],\n",
       "       [115.6   ],\n",
       "       [167.005 ],\n",
       "       [142.875 ],\n",
       "       [152.4   ],\n",
       "       [ 96.52  ],\n",
       "       [160.    ],\n",
       "       [159.385 ],\n",
       "       [149.86  ],\n",
       "       [160.655 ],\n",
       "       [160.655 ],\n",
       "       [149.225 ],\n",
       "       [125.095 ],\n",
       "       [140.97  ],\n",
       "       [154.94  ],\n",
       "       [141.605 ],\n",
       "       [160.02  ],\n",
       "       [150.1648],\n",
       "       [155.575 ],\n",
       "       [103.505 ],\n",
       "       [ 94.615 ],\n",
       "       [156.21  ],\n",
       "       [153.035 ],\n",
       "       [167.005 ],\n",
       "       [149.86  ],\n",
       "       [147.955 ],\n",
       "       [159.385 ],\n",
       "       [161.925 ],\n",
       "       [155.575 ],\n",
       "       [159.385 ],\n",
       "       [146.685 ],\n",
       "       [172.72  ],\n",
       "       [166.37  ],\n",
       "       [141.605 ],\n",
       "       [142.875 ],\n",
       "       [133.35  ],\n",
       "       [127.635 ],\n",
       "       [119.38  ],\n",
       "       [151.765 ],\n",
       "       [156.845 ],\n",
       "       [148.59  ],\n",
       "       [157.48  ],\n",
       "       [149.86  ],\n",
       "       [147.955 ],\n",
       "       [102.235 ],\n",
       "       [153.035 ],\n",
       "       [160.655 ],\n",
       "       [149.225 ],\n",
       "       [114.3   ],\n",
       "       [100.965 ],\n",
       "       [138.43  ],\n",
       "       [ 91.44  ],\n",
       "       [162.56  ],\n",
       "       [149.225 ],\n",
       "       [158.75  ],\n",
       "       [149.86  ],\n",
       "       [158.115 ],\n",
       "       [156.21  ],\n",
       "       [148.59  ],\n",
       "       [143.51  ],\n",
       "       [154.305 ],\n",
       "       [131.445 ],\n",
       "       [157.48  ],\n",
       "       [157.48  ],\n",
       "       [154.305 ],\n",
       "       [107.95  ],\n",
       "       [168.275 ],\n",
       "       [145.415 ],\n",
       "       [147.955 ],\n",
       "       [100.965 ],\n",
       "       [113.03  ],\n",
       "       [149.225 ],\n",
       "       [154.94  ],\n",
       "       [162.56  ],\n",
       "       [156.845 ],\n",
       "       [123.19  ],\n",
       "       [161.0106],\n",
       "       [144.78  ],\n",
       "       [143.51  ],\n",
       "       [149.225 ],\n",
       "       [110.49  ],\n",
       "       [149.86  ],\n",
       "       [165.735 ],\n",
       "       [144.145 ],\n",
       "       [157.48  ],\n",
       "       [154.305 ],\n",
       "       [163.83  ],\n",
       "       [156.21  ],\n",
       "       [153.67  ],\n",
       "       [134.62  ],\n",
       "       [144.145 ],\n",
       "       [114.3   ],\n",
       "       [162.56  ],\n",
       "       [146.05  ],\n",
       "       [120.65  ],\n",
       "       [154.94  ],\n",
       "       [144.78  ],\n",
       "       [106.68  ],\n",
       "       [146.685 ],\n",
       "       [152.4   ],\n",
       "       [163.83  ],\n",
       "       [165.735 ],\n",
       "       [156.21  ],\n",
       "       [152.4   ],\n",
       "       [140.335 ],\n",
       "       [158.115 ],\n",
       "       [163.195 ],\n",
       "       [151.13  ],\n",
       "       [171.1198],\n",
       "       [149.86  ],\n",
       "       [163.83  ],\n",
       "       [141.605 ],\n",
       "       [ 93.98  ],\n",
       "       [149.225 ],\n",
       "       [105.41  ],\n",
       "       [146.05  ],\n",
       "       [161.29  ],\n",
       "       [162.56  ],\n",
       "       [145.415 ],\n",
       "       [145.415 ],\n",
       "       [170.815 ],\n",
       "       [127.    ],\n",
       "       [159.385 ],\n",
       "       [159.4   ],\n",
       "       [153.67  ],\n",
       "       [160.02  ],\n",
       "       [150.495 ],\n",
       "       [149.225 ],\n",
       "       [127.    ],\n",
       "       [142.875 ],\n",
       "       [142.113 ],\n",
       "       [147.32  ],\n",
       "       [162.56  ],\n",
       "       [164.465 ],\n",
       "       [160.02  ],\n",
       "       [153.67  ],\n",
       "       [167.005 ],\n",
       "       [151.13  ],\n",
       "       [147.955 ],\n",
       "       [125.3998],\n",
       "       [111.125 ],\n",
       "       [153.035 ],\n",
       "       [139.065 ],\n",
       "       [152.4   ],\n",
       "       [154.94  ],\n",
       "       [147.955 ],\n",
       "       [143.51  ],\n",
       "       [117.983 ],\n",
       "       [144.145 ],\n",
       "       [ 92.71  ],\n",
       "       [147.955 ],\n",
       "       [155.575 ],\n",
       "       [150.495 ],\n",
       "       [155.575 ],\n",
       "       [154.305 ],\n",
       "       [130.6068],\n",
       "       [101.6   ],\n",
       "       [157.48  ],\n",
       "       [168.91  ],\n",
       "       [150.495 ],\n",
       "       [111.76  ],\n",
       "       [160.02  ],\n",
       "       [167.64  ],\n",
       "       [144.145 ],\n",
       "       [145.415 ],\n",
       "       [160.02  ],\n",
       "       [147.32  ],\n",
       "       [164.465 ],\n",
       "       [153.035 ],\n",
       "       [149.225 ],\n",
       "       [160.02  ],\n",
       "       [149.225 ],\n",
       "       [ 85.09  ],\n",
       "       [ 84.455 ],\n",
       "       [ 59.6138],\n",
       "       [ 92.71  ],\n",
       "       [111.125 ],\n",
       "       [ 90.805 ],\n",
       "       [153.67  ],\n",
       "       [ 99.695 ],\n",
       "       [ 62.484 ],\n",
       "       [ 81.915 ],\n",
       "       [ 96.52  ],\n",
       "       [ 80.01  ],\n",
       "       [150.495 ],\n",
       "       [151.765 ],\n",
       "       [140.6398],\n",
       "       [ 88.265 ],\n",
       "       [158.115 ],\n",
       "       [149.225 ],\n",
       "       [151.765 ],\n",
       "       [154.94  ],\n",
       "       [123.825 ],\n",
       "       [104.14  ],\n",
       "       [161.29  ],\n",
       "       [148.59  ],\n",
       "       [ 97.155 ],\n",
       "       [ 93.345 ],\n",
       "       [160.655 ],\n",
       "       [157.48  ],\n",
       "       [167.005 ],\n",
       "       [157.48  ],\n",
       "       [ 91.44  ],\n",
       "       [ 60.452 ],\n",
       "       [137.16  ],\n",
       "       [152.4   ],\n",
       "       [152.4   ],\n",
       "       [ 81.28  ],\n",
       "       [109.22  ],\n",
       "       [ 71.12  ],\n",
       "       [ 89.2048],\n",
       "       [ 67.31  ],\n",
       "       [ 85.09  ],\n",
       "       [ 69.85  ],\n",
       "       [161.925 ],\n",
       "       [152.4   ],\n",
       "       [ 88.9   ],\n",
       "       [ 90.17  ],\n",
       "       [ 71.755 ],\n",
       "       [ 83.82  ],\n",
       "       [159.385 ],\n",
       "       [142.24  ],\n",
       "       [142.24  ],\n",
       "       [168.91  ],\n",
       "       [123.19  ],\n",
       "       [ 74.93  ],\n",
       "       [ 74.295 ],\n",
       "       [ 90.805 ],\n",
       "       [160.02  ],\n",
       "       [ 67.945 ],\n",
       "       [135.89  ],\n",
       "       [158.115 ],\n",
       "       [ 85.09  ],\n",
       "       [ 93.345 ],\n",
       "       [152.4   ],\n",
       "       [155.575 ],\n",
       "       [154.305 ],\n",
       "       [156.845 ],\n",
       "       [120.015 ],\n",
       "       [114.3   ],\n",
       "       [ 83.82  ],\n",
       "       [156.21  ],\n",
       "       [137.16  ],\n",
       "       [114.3   ],\n",
       "       [ 93.98  ],\n",
       "       [168.275 ],\n",
       "       [147.955 ],\n",
       "       [139.7   ],\n",
       "       [157.48  ],\n",
       "       [ 76.2   ],\n",
       "       [ 66.04  ],\n",
       "       [160.7   ],\n",
       "       [114.3   ],\n",
       "       [146.05  ],\n",
       "       [161.29  ],\n",
       "       [ 69.85  ],\n",
       "       [133.985 ],\n",
       "       [ 67.945 ],\n",
       "       [150.495 ],\n",
       "       [163.195 ],\n",
       "       [148.59  ],\n",
       "       [148.59  ],\n",
       "       [161.925 ],\n",
       "       [153.67  ],\n",
       "       [ 68.58  ],\n",
       "       [151.13  ],\n",
       "       [163.83  ],\n",
       "       [153.035 ],\n",
       "       [151.765 ],\n",
       "       [132.08  ],\n",
       "       [156.21  ],\n",
       "       [140.335 ],\n",
       "       [158.75  ],\n",
       "       [142.875 ],\n",
       "       [ 84.455 ],\n",
       "       [151.9428],\n",
       "       [161.29  ],\n",
       "       [127.9906],\n",
       "       [160.9852],\n",
       "       [144.78  ],\n",
       "       [132.08  ],\n",
       "       [117.983 ],\n",
       "       [160.02  ],\n",
       "       [154.94  ],\n",
       "       [160.9852],\n",
       "       [165.989 ],\n",
       "       [157.988 ],\n",
       "       [154.94  ],\n",
       "       [ 97.9932],\n",
       "       [ 64.135 ],\n",
       "       [160.655 ],\n",
       "       [147.32  ],\n",
       "       [146.7   ],\n",
       "       [147.32  ],\n",
       "       [172.9994],\n",
       "       [158.115 ],\n",
       "       [147.32  ],\n",
       "       [124.9934],\n",
       "       [106.045 ],\n",
       "       [165.989 ],\n",
       "       [149.86  ],\n",
       "       [ 76.2   ],\n",
       "       [161.925 ],\n",
       "       [140.0048],\n",
       "       [ 66.675 ],\n",
       "       [ 62.865 ],\n",
       "       [163.83  ],\n",
       "       [147.955 ],\n",
       "       [160.02  ],\n",
       "       [154.94  ],\n",
       "       [152.4   ],\n",
       "       [ 62.23  ],\n",
       "       [146.05  ],\n",
       "       [151.9936],\n",
       "       [157.48  ],\n",
       "       [ 55.88  ],\n",
       "       [ 60.96  ],\n",
       "       [151.765 ],\n",
       "       [144.78  ],\n",
       "       [118.11  ],\n",
       "       [ 78.105 ],\n",
       "       [160.655 ],\n",
       "       [151.13  ],\n",
       "       [121.92  ],\n",
       "       [ 92.71  ],\n",
       "       [153.67  ],\n",
       "       [147.32  ],\n",
       "       [139.7   ],\n",
       "       [157.48  ],\n",
       "       [ 91.44  ],\n",
       "       [154.94  ],\n",
       "       [143.51  ],\n",
       "       [ 83.185 ],\n",
       "       [158.115 ],\n",
       "       [147.32  ],\n",
       "       [123.825 ],\n",
       "       [ 88.9   ],\n",
       "       [160.02  ],\n",
       "       [137.16  ],\n",
       "       [165.1   ],\n",
       "       [154.94  ],\n",
       "       [111.125 ],\n",
       "       [153.67  ],\n",
       "       [145.415 ],\n",
       "       [141.605 ],\n",
       "       [144.78  ],\n",
       "       [163.83  ],\n",
       "       [161.29  ],\n",
       "       [154.9   ],\n",
       "       [161.3   ],\n",
       "       [170.18  ],\n",
       "       [149.86  ],\n",
       "       [123.825 ],\n",
       "       [ 85.09  ],\n",
       "       [160.655 ],\n",
       "       [154.94  ],\n",
       "       [106.045 ],\n",
       "       [126.365 ],\n",
       "       [166.37  ],\n",
       "       [148.2852],\n",
       "       [124.46  ],\n",
       "       [ 89.535 ],\n",
       "       [101.6   ],\n",
       "       [151.765 ],\n",
       "       [148.59  ],\n",
       "       [153.67  ],\n",
       "       [ 53.975 ],\n",
       "       [146.685 ],\n",
       "       [ 56.515 ],\n",
       "       [100.965 ],\n",
       "       [121.92  ],\n",
       "       [ 81.5848],\n",
       "       [154.94  ],\n",
       "       [156.21  ],\n",
       "       [132.715 ],\n",
       "       [125.095 ],\n",
       "       [101.6   ],\n",
       "       [160.655 ],\n",
       "       [146.05  ],\n",
       "       [132.715 ],\n",
       "       [ 87.63  ],\n",
       "       [156.21  ],\n",
       "       [152.4   ],\n",
       "       [162.56  ],\n",
       "       [114.935 ],\n",
       "       [ 67.945 ],\n",
       "       [142.875 ],\n",
       "       [ 76.835 ],\n",
       "       [145.415 ],\n",
       "       [162.56  ],\n",
       "       [156.21  ],\n",
       "       [ 71.12  ],\n",
       "       [158.75  ]])"
      ]
     },
     "execution_count": 13,
     "metadata": {},
     "output_type": "execute_result"
    }
   ],
   "source": [
    "from sklearn.linear_model import LinearRegression\n",
    "import numpy as np\n",
    "x.reshape(-1,1)"
   ]
  },
  {
   "cell_type": "markdown",
   "metadata": {},
   "source": [
    "### Model-1: Linear model\n",
    "\n",
    "$$ \\hat{y} = \\hat{\\theta}_0 + \\hat{\\theta}_1 x $$"
   ]
  },
  {
   "cell_type": "code",
   "execution_count": 14,
   "metadata": {},
   "outputs": [
    {
     "data": {
      "text/plain": [
       "LinearRegression(copy_X=True, fit_intercept=True, n_jobs=None, normalize=False)"
      ]
     },
     "execution_count": 14,
     "metadata": {},
     "output_type": "execute_result"
    }
   ],
   "source": [
    "model = LinearRegression()\n",
    "model.fit(x.reshape(-1,1),y)  # Reshaping is done to make sure that x is a column vector "
   ]
  },
  {
   "cell_type": "code",
   "execution_count": 15,
   "metadata": {},
   "outputs": [
    {
     "data": {
      "text/plain": [
       "-33.75613690832983"
      ]
     },
     "execution_count": 15,
     "metadata": {},
     "output_type": "execute_result"
    }
   ],
   "source": [
    "th_0_lin = model.intercept_\n",
    "\n",
    "th_0_lin"
   ]
  },
  {
   "cell_type": "code",
   "execution_count": 16,
   "metadata": {},
   "outputs": [
    {
     "data": {
      "text/plain": [
       "0.5016993362336575"
      ]
     },
     "execution_count": 16,
     "metadata": {},
     "output_type": "execute_result"
    }
   ],
   "source": [
    "th_1_lin = model.coef_[0]\n",
    "\n",
    "th_1_lin"
   ]
  },
  {
   "cell_type": "markdown",
   "metadata": {},
   "source": [
    "### Plotting regression line of the linear model along with data"
   ]
  },
  {
   "cell_type": "code",
   "execution_count": 18,
   "metadata": {},
   "outputs": [],
   "source": [
    "import matplotlib.pyplot as plt\n",
    "\n",
    "x_data_lin = np.linspace(np.min(x), np.max(x), 100)\n",
    "y_data_lin = th_0_lin + th_1_lin * x_data_lin"
   ]
  },
  {
   "cell_type": "code",
   "execution_count": 19,
   "metadata": {},
   "outputs": [
    {
     "data": {
      "image/png": "[encoded data removed]",
      "text/plain": [
       "<Figure size 720x576 with 1 Axes>"
      ]
     },
     "metadata": {
      "needs_background": "light"
     },
     "output_type": "display_data"
    }
   ],
   "source": [
    "fig = plt.figure(figsize=(10,8))\n",
    "plt.scatter(x,y)\n",
    "plt.title(\"Weight vs. Height\")\n",
    "plt.xlabel('Height')\n",
    "plt.ylabel('Weight')\n",
    "plt.plot(x_data_lin, y_data_lin, color = 'r')\n",
    "plt.grid()\n",
    "plt.show()"
   ]
  },
  {
   "cell_type": "markdown",
   "metadata": {},
   "source": [
    "### Prediction of linear model on entire dataset "
   ]
  },
  {
   "cell_type": "code",
   "execution_count": 20,
   "metadata": {},
   "outputs": [],
   "source": [
    "y_pred_lin = model.predict(x.reshape(-1,1))"
   ]
  },
  {
   "cell_type": "markdown",
   "metadata": {},
   "source": [
    "### Performance evaluation of linear model"
   ]
  },
  {
   "cell_type": "code",
   "execution_count": 21,
   "metadata": {},
   "outputs": [],
   "source": [
    "from sklearn.metrics import r2_score, mean_squared_error"
   ]
  },
  {
   "cell_type": "code",
   "execution_count": 22,
   "metadata": {},
   "outputs": [
    {
     "name": "stdout",
     "output_type": "stream",
     "text": [
      "For linear model Mean Squared error = 24.837769453118856 and R2 score = 0.8851464200503394\n"
     ]
    }
   ],
   "source": [
    "mse_lin = mean_squared_error(y_true = y, y_pred = y_pred_lin)\n",
    "\n",
    "r2_lin = r2_score(y_true = y, y_pred = y_pred_lin)\n",
    "\n",
    "print(\"For linear model Mean Squared error = {} and R2 score = {}\".format(mse_lin, r2_lin))"
   ]
  },
  {
   "cell_type": "markdown",
   "metadata": {},
   "source": [
    "### Model-2: Quadratic Model"
   ]
  },
  {
   "cell_type": "markdown",
   "metadata": {},
   "source": [
    "$$ \\hat{y} = \\hat{\\theta}_0 + \\hat{\\theta}_1 x + \\hat{\\theta}_2 x^2 = \\hat{\\theta}_0 + \\hat{\\theta}_1 x_1 + \\hat{\\theta}_2 x_2~~,~~here~~x_1 = x ~~and~~ x_2 = x^2 $$ "
   ]
  },
  {
   "cell_type": "markdown",
   "metadata": {},
   "source": [
    "### Data preparation"
   ]
  },
  {
   "cell_type": "code",
   "execution_count": 23,
   "metadata": {},
   "outputs": [
    {
     "data": {
      "text/plain": [
       "(544, 2)"
      ]
     },
     "execution_count": 23,
     "metadata": {},
     "output_type": "execute_result"
    }
   ],
   "source": [
    "x1 = x\n",
    "x2 = np.square(x)\n",
    "\n",
    "X = np.vstack((x1,x2)).T\n",
    "X.shape"
   ]
  },
  {
   "cell_type": "code",
   "execution_count": 24,
   "metadata": {},
   "outputs": [
    {
     "data": {
      "text/plain": [
       "LinearRegression(copy_X=True, fit_intercept=True, n_jobs=None, normalize=False)"
      ]
     },
     "execution_count": 24,
     "metadata": {},
     "output_type": "execute_result"
    }
   ],
   "source": [
    "model = LinearRegression()\n",
    "model.fit(X,y)"
   ]
  },
  {
   "cell_type": "code",
   "execution_count": 25,
   "metadata": {},
   "outputs": [
    {
     "data": {
      "text/plain": [
       "20.84475994516111"
      ]
     },
     "execution_count": 25,
     "metadata": {},
     "output_type": "execute_result"
    }
   ],
   "source": [
    "th_0_quad = model.intercept_\n",
    "\n",
    "th_0_quad"
   ]
  },
  {
   "cell_type": "code",
   "execution_count": 26,
   "metadata": {},
   "outputs": [
    {
     "data": {
      "text/plain": [
       "array([-0.47295254,  0.00403264])"
      ]
     },
     "execution_count": 26,
     "metadata": {},
     "output_type": "execute_result"
    }
   ],
   "source": [
    "th_1_quad = model.coef_[0]\n",
    "th_2_quad = model.coef_[1]\n",
    "\n",
    "model.coef_"
   ]
  },
  {
   "cell_type": "markdown",
   "metadata": {},
   "source": [
    "### Plotting regression line of quadratic regression"
   ]
  },
  {
   "cell_type": "code",
   "execution_count": 27,
   "metadata": {},
   "outputs": [],
   "source": [
    "x1_data = np.linspace(np.min(x), np.max(x), 100)\n",
    "x2_data = np.square(x1_data)\n",
    "\n",
    "y_data_quad = th_0_quad + th_1_quad*x1_data + th_2_quad*x2_data"
   ]
  },
  {
   "cell_type": "code",
   "execution_count": 28,
   "metadata": {},
   "outputs": [
    {
     "data": {
      "image/png": "[encoded data removed]",
      "text/plain": [
       "<Figure size 720x576 with 1 Axes>"
      ]
     },
     "metadata": {
      "needs_background": "light"
     },
     "output_type": "display_data"
    }
   ],
   "source": [
    "fig = plt.figure(figsize=(10,8))\n",
    "plt.scatter(x,y)\n",
    "plt.title(\"Weight vs. Height\")\n",
    "plt.xlabel('Height')\n",
    "plt.ylabel('Weight')\n",
    "plt.plot(x1_data, y_data_quad, color = 'r',label = 'Polynomial (quad.) regression')\n",
    "plt.plot(x_data_lin, y_data_lin, color = 'k', label = 'simple lin. regression')\n",
    "plt.grid()\n",
    "plt.legend(loc = 'best')\n",
    "plt.show()"
   ]
  },
  {
   "cell_type": "markdown",
   "metadata": {},
   "source": [
    "### Prediction of quadratic model on entire dataset"
   ]
  },
  {
   "cell_type": "code",
   "execution_count": 29,
   "metadata": {},
   "outputs": [
    {
     "data": {
      "text/plain": [
       "(544,)"
      ]
     },
     "execution_count": 29,
     "metadata": {},
     "output_type": "execute_result"
    }
   ],
   "source": [
    "y_pred_quad = model.predict(X)\n",
    "y_pred_quad.shape"
   ]
  },
  {
   "cell_type": "code",
   "execution_count": 30,
   "metadata": {},
   "outputs": [
    {
     "name": "stdout",
     "output_type": "stream",
     "text": [
      "For quadratic model Mean Squared error = 15.454214661127608 and R2 score = 0.9285373880898893\n"
     ]
    }
   ],
   "source": [
    "mse_quad = mean_squared_error(y_true = y, y_pred = y_pred_quad)\n",
    "\n",
    "r2_quad = r2_score(y_true = y, y_pred = y_pred_quad)\n",
    "\n",
    "print(\"For quadratic model Mean Squared error = {} and R2 score = {}\".format(mse_quad, r2_quad))"
   ]
  },
  {
   "cell_type": "code",
   "execution_count": 31,
   "metadata": {},
   "outputs": [
    {
     "name": "stdout",
     "output_type": "stream",
     "text": [
      "For linear model Mean Squared error = 24.837769453118856 and R2 score = 0.8851464200503394\n"
     ]
    }
   ],
   "source": [
    "print(\"For linear model Mean Squared error = {} and R2 score = {}\".format(mse_lin, r2_lin))"
   ]
  },
  {
   "cell_type": "markdown",
   "metadata": {},
   "source": [
    "The $R^2$ Score and Mean Square Error suggest that quadratic polynomial is a better fit for the given dataset than simple linear model."
   ]
  }
 ],
 "metadata": {
  "kernelspec": {
   "display_name": "Python 3",
   "language": "python",
   "name": "python3"
  },
  "language_info": {
   "codemirror_mode": {
    "name": "ipython",
    "version": 3
   },
   "file_extension": ".py",
   "mimetype": "text/x-python",
   "name": "python",
   "nbconvert_exporter": "python",
   "pygments_lexer": "ipython3",
   "version": "3.7.5"
  }
 },
 "nbformat": 4,
 "nbformat_minor": 2
}
