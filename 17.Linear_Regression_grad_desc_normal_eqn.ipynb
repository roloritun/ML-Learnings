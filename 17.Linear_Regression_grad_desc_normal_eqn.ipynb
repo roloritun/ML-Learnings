{
 "cells": [
  {
   "cell_type": "markdown",
   "metadata": {},
   "source": [
    "# Implementation of Gradient Descent algorithm for Linear Regression"
   ]
  },
  {
   "cell_type": "markdown",
   "metadata": {},
   "source": [
    "## Problem Statement\n",
    "\n",
    "When petrol is pumped into tanks, hydrocarbons escape. To evaluate the effectiveness of pollution controls, experiments were performed. The quantity of hydrocarbons escaping was measured as a function of the following variables:\n",
    "\n",
    "- The tank temperature\n",
    "- The temperature of the petrol pumped in,\n",
    "- The initial pressure in the tank, and \n",
    "- The pressure of the petrol pumped in."
   ]
  },
  {
   "cell_type": "markdown",
   "metadata": {},
   "source": [
    "## Dataset description\n",
    "\n",
    "There are 32 rows of data. The data include 6 columns. \n",
    "\n",
    "- The first column is **the index**, \n",
    "- The second column is **the tank temperature** (in $^oF$), \n",
    "- The third column is **the petrol temperature** (in $^oF$), \n",
    "- The fourth column is **the initial tank pressure** (in $lbs\\ in^{-2}$), \n",
    "- The fifth column is the **the petrol pressure** (in $lbs\\ in^{-2}$), and \n",
    "- The last column is the **amount of escaping hydrocarbons** (in $grams$)."
   ]
  },
  {
   "cell_type": "markdown",
   "metadata": {},
   "source": [
    "## Python coding"
   ]
  },
  {
   "cell_type": "code",
   "execution_count": 1,
   "metadata": {},
   "outputs": [],
   "source": [
    "import numpy as np\n",
    "import pandas as pd"
   ]
  },
  {
   "cell_type": "markdown",
   "metadata": {},
   "source": [
    "### Importing the dataset"
   ]
  },
  {
   "cell_type": "code",
   "execution_count": 2,
   "metadata": {},
   "outputs": [],
   "source": [
    "data = pd.read_csv('../Data/gas_tank_temp_pressure.csv', index_col=0)"
   ]
  },
  {
   "cell_type": "code",
   "execution_count": 3,
   "metadata": {},
   "outputs": [
    {
     "data": {
      "text/html": [
       "<div>\n",
       "<style scoped>\n",
       "    .dataframe tbody tr th:only-of-type {\n",
       "        vertical-align: middle;\n",
       "    }\n",
       "\n",
       "    .dataframe tbody tr th {\n",
       "        vertical-align: top;\n",
       "    }\n",
       "\n",
       "    .dataframe thead th {\n",
       "        text-align: right;\n",
       "    }\n",
       "</style>\n",
       "<table border=\"1\" class=\"dataframe\">\n",
       "  <thead>\n",
       "    <tr style=\"text-align: right;\">\n",
       "      <th></th>\n",
       "      <th>Tank Temp</th>\n",
       "      <th>Petrol Temp</th>\n",
       "      <th>Tank Pr</th>\n",
       "      <th>Petrol Pr</th>\n",
       "      <th>Hydrocarbon Escaping</th>\n",
       "    </tr>\n",
       "    <tr>\n",
       "      <th>Index</th>\n",
       "      <th></th>\n",
       "      <th></th>\n",
       "      <th></th>\n",
       "      <th></th>\n",
       "      <th></th>\n",
       "    </tr>\n",
       "  </thead>\n",
       "  <tbody>\n",
       "    <tr>\n",
       "      <th>1</th>\n",
       "      <td>33</td>\n",
       "      <td>53</td>\n",
       "      <td>3.32</td>\n",
       "      <td>3.42</td>\n",
       "      <td>29</td>\n",
       "    </tr>\n",
       "    <tr>\n",
       "      <th>2</th>\n",
       "      <td>31</td>\n",
       "      <td>36</td>\n",
       "      <td>3.10</td>\n",
       "      <td>3.26</td>\n",
       "      <td>24</td>\n",
       "    </tr>\n",
       "    <tr>\n",
       "      <th>3</th>\n",
       "      <td>33</td>\n",
       "      <td>51</td>\n",
       "      <td>3.18</td>\n",
       "      <td>3.18</td>\n",
       "      <td>26</td>\n",
       "    </tr>\n",
       "    <tr>\n",
       "      <th>4</th>\n",
       "      <td>37</td>\n",
       "      <td>51</td>\n",
       "      <td>3.39</td>\n",
       "      <td>3.08</td>\n",
       "      <td>22</td>\n",
       "    </tr>\n",
       "    <tr>\n",
       "      <th>5</th>\n",
       "      <td>36</td>\n",
       "      <td>54</td>\n",
       "      <td>3.20</td>\n",
       "      <td>3.41</td>\n",
       "      <td>27</td>\n",
       "    </tr>\n",
       "  </tbody>\n",
       "</table>\n",
       "</div>"
      ],
      "text/plain": [
       "        Tank Temp  Petrol Temp  Tank Pr  Petrol Pr  Hydrocarbon Escaping\n",
       "Index                                                                   \n",
       "1              33           53     3.32       3.42                    29\n",
       "2              31           36     3.10       3.26                    24\n",
       "3              33           51     3.18       3.18                    26\n",
       "4              37           51     3.39       3.08                    22\n",
       "5              36           54     3.20       3.41                    27"
      ]
     },
     "execution_count": 3,
     "metadata": {},
     "output_type": "execute_result"
    }
   ],
   "source": [
    "data.head()"
   ]
  },
  {
   "cell_type": "markdown",
   "metadata": {},
   "source": [
    "### Preprocessing the dataset"
   ]
  },
  {
   "cell_type": "markdown",
   "metadata": {},
   "source": [
    "#### Taking features and target variables"
   ]
  },
  {
   "cell_type": "code",
   "execution_count": 4,
   "metadata": {},
   "outputs": [
    {
     "name": "stdout",
     "output_type": "stream",
     "text": [
      "(32, 4) (32,)\n"
     ]
    },
    {
     "data": {
      "text/plain": [
       "array([[33.  , 53.  ,  3.32,  3.42],\n",
       "       [31.  , 36.  ,  3.1 ,  3.26],\n",
       "       [33.  , 51.  ,  3.18,  3.18],\n",
       "       [37.  , 51.  ,  3.39,  3.08],\n",
       "       [36.  , 54.  ,  3.2 ,  3.41],\n",
       "       [35.  , 35.  ,  3.03,  3.03],\n",
       "       [59.  , 56.  ,  4.78,  4.57],\n",
       "       [60.  , 60.  ,  4.72,  4.72],\n",
       "       [59.  , 60.  ,  4.6 ,  4.41],\n",
       "       [60.  , 60.  ,  4.53,  4.53],\n",
       "       [34.  , 35.  ,  2.9 ,  2.95],\n",
       "       [60.  , 59.  ,  4.4 ,  4.36],\n",
       "       [60.  , 62.  ,  4.31,  4.42],\n",
       "       [60.  , 36.  ,  4.27,  3.94],\n",
       "       [62.  , 38.  ,  4.41,  3.49],\n",
       "       [62.  , 61.  ,  4.39,  4.39],\n",
       "       [90.  , 64.  ,  7.32,  6.7 ],\n",
       "       [90.  , 60.  ,  7.32,  7.2 ],\n",
       "       [92.  , 92.  ,  7.45,  7.45],\n",
       "       [91.  , 92.  ,  7.27,  7.26],\n",
       "       [61.  , 62.  ,  3.91,  4.08],\n",
       "       [59.  , 42.  ,  3.75,  3.45],\n",
       "       [88.  , 65.  ,  6.48,  5.8 ],\n",
       "       [91.  , 89.  ,  6.7 ,  6.6 ],\n",
       "       [63.  , 62.  ,  4.3 ,  4.3 ],\n",
       "       [60.  , 61.  ,  4.02,  4.1 ],\n",
       "       [60.  , 62.  ,  4.02,  3.89],\n",
       "       [59.  , 62.  ,  3.98,  4.02],\n",
       "       [59.  , 62.  ,  4.39,  4.53],\n",
       "       [37.  , 35.  ,  2.75,  2.64],\n",
       "       [35.  , 35.  ,  2.59,  2.59],\n",
       "       [37.  , 37.  ,  2.73,  2.59]])"
      ]
     },
     "execution_count": 4,
     "metadata": {},
     "output_type": "execute_result"
    }
   ],
   "source": [
    "X = data.iloc[:,:4].values\n",
    "y = data.iloc[:,4].values\n",
    "\n",
    "print(X.shape, y.shape)\n",
    "\n",
    "X"
   ]
  },
  {
   "cell_type": "markdown",
   "metadata": {},
   "source": [
    "#### Feature Scaling"
   ]
  },
  {
   "cell_type": "code",
   "execution_count": 5,
   "metadata": {},
   "outputs": [
    {
     "data": {
      "text/plain": [
       "array([[-1.29696753, -0.18768662, -0.77110143, -0.65977178],\n",
       "       [-1.40111548, -1.28555246, -0.92501564, -0.77657785],\n",
       "       [-1.29696753, -0.31684731, -0.86904684, -0.83498088],\n",
       "       [-1.08867161, -0.31684731, -0.72212873, -0.90798468],\n",
       "       [-1.14074559, -0.12310628, -0.85505464, -0.66707216],\n",
       "       [-1.19281957, -1.3501328 , -0.97398834, -0.94448657],\n",
       "       [ 0.05695591,  0.00605441,  0.25032921,  0.17977184],\n",
       "       [ 0.10902989,  0.26437578,  0.20835261,  0.28927753],\n",
       "       [ 0.05695591,  0.26437578,  0.12439941,  0.06296577],\n",
       "       [ 0.10902989,  0.26437578,  0.07542671,  0.15057032],\n",
       "       [-1.24489355, -1.3501328 , -1.06493765, -1.00288961],\n",
       "       [ 0.10902989,  0.19979544, -0.0155226 ,  0.02646387],\n",
       "       [ 0.10902989,  0.39353647, -0.0784875 ,  0.07026615],\n",
       "       [ 0.10902989, -1.28555246, -0.1064719 , -0.28015206],\n",
       "       [ 0.21317785, -1.15639177, -0.0085265 , -0.60866912],\n",
       "       [ 0.21317785,  0.32895612, -0.0225187 ,  0.04836501],\n",
       "       [ 1.67124925,  0.52269715,  2.0273387 ,  1.73475263],\n",
       "       [ 1.67124925,  0.26437578,  2.0273387 ,  2.0997716 ],\n",
       "       [ 1.7753972 ,  2.33094677,  2.118288  ,  2.28228108],\n",
       "       [ 1.72332323,  2.33094677,  1.9923582 ,  2.14357387],\n",
       "       [ 0.16110387,  0.39353647, -0.35833151, -0.17794675],\n",
       "       [ 0.05695591, -0.8980704 , -0.47026912, -0.63787064],\n",
       "       [ 1.56710129,  0.5872775 ,  1.43966627,  1.07771849],\n",
       "       [ 1.72332323,  2.13720574,  1.59358048,  1.66174884],\n",
       "       [ 0.26525183,  0.39353647, -0.0854836 , -0.0173384 ],\n",
       "       [ 0.10902989,  0.32895612, -0.28137441, -0.16334599],\n",
       "       [ 0.10902989,  0.39353647, -0.28137441, -0.31665395],\n",
       "       [ 0.05695591,  0.39353647, -0.30935881, -0.22174902],\n",
       "       [ 0.05695591,  0.39353647, -0.0225187 ,  0.15057032],\n",
       "       [-1.08867161, -1.3501328 , -1.16987915, -1.22920136],\n",
       "       [-1.19281957, -1.3501328 , -1.28181676, -1.26570326],\n",
       "       [-1.08867161, -1.22097212, -1.18387135, -1.26570326]])"
      ]
     },
     "execution_count": 5,
     "metadata": {},
     "output_type": "execute_result"
    }
   ],
   "source": [
    "from sklearn.preprocessing import StandardScaler\n",
    "\n",
    "sc = StandardScaler()\n",
    "\n",
    "X = sc.fit_transform(X)\n",
    "X"
   ]
  },
  {
   "cell_type": "code",
   "execution_count": 6,
   "metadata": {},
   "outputs": [
    {
     "data": {
      "text/plain": [
       "array([ 0.00000000e+00,  2.77555756e-17,  1.66533454e-16, -3.05311332e-16])"
      ]
     },
     "execution_count": 6,
     "metadata": {},
     "output_type": "execute_result"
    }
   ],
   "source": [
    "np.mean(X, axis = 0)"
   ]
  },
  {
   "cell_type": "code",
   "execution_count": 7,
   "metadata": {},
   "outputs": [
    {
     "data": {
      "text/plain": [
       "array([1., 1., 1., 1.])"
      ]
     },
     "execution_count": 7,
     "metadata": {},
     "output_type": "execute_result"
    }
   ],
   "source": [
    "np.std(X, axis = 0)"
   ]
  },
  {
   "cell_type": "markdown",
   "metadata": {},
   "source": [
    "#### Train-test split of the dataset"
   ]
  },
  {
   "cell_type": "code",
   "execution_count": 8,
   "metadata": {},
   "outputs": [],
   "source": [
    "from sklearn.model_selection import train_test_split\n",
    "\n",
    "X_train, X_test, y_train, y_test = train_test_split(X, y, test_size = 0.25, shuffle = True, \n",
    "                                                    random_state = 40)"
   ]
  },
  {
   "cell_type": "code",
   "execution_count": 9,
   "metadata": {},
   "outputs": [
    {
     "name": "stdout",
     "output_type": "stream",
     "text": [
      "(24, 4) (24,) (8, 4) (8,)\n"
     ]
    }
   ],
   "source": [
    "print(X_train.shape, y_train.shape, X_test.shape, y_test.shape)"
   ]
  },
  {
   "cell_type": "markdown",
   "metadata": {},
   "source": [
    "### Implementing the cost-function"
   ]
  },
  {
   "cell_type": "markdown",
   "metadata": {},
   "source": [
    "#### Equation of the cost function for linear regression (Mean Square Error Cost function)"
   ]
  },
  {
   "cell_type": "markdown",
   "metadata": {},
   "source": [
    "$$ J(\\hat{\\Theta}) = \\frac{1}{2m} \\sum_{i=1}^{m} \\left(y^{(i)} - \\hat{y}^{(i)} \\right)^2 = \\frac{1}{2m} \\sum_{i=1}^{m} \\left(y^{(i)} - \\hat{\\theta}_0 - \\sum_{j=1}^{k} \\left( \\hat{\\theta}_j~x_j^{(i)}\\right) \\right)^2$$"
   ]
  },
  {
   "cell_type": "code",
   "execution_count": 13,
   "metadata": {},
   "outputs": [],
   "source": [
    "# Here the cost function takes two arguments\n",
    "    # A numpy 1-D array \"y_true\" for the true values of the target variable\n",
    "    # A numpy 1-D array \"y_pred\" for the predicted values of the target variable\n",
    "    \n",
    "# It return a scalar \"mean squared error cost function\"\n",
    "\n",
    "def mse_cost(y_true, y_pred):\n",
    "    \n",
    "    assert (y_true.shape[0] == y_pred.shape[0]),\"Dimension Mismatch\"\n",
    "    \n",
    "    m = y_true.shape[0]\n",
    "    J = np.sum(np.square(y_true - y_pred))/(2*m)\n",
    "    return (J)"
   ]
  },
  {
   "cell_type": "markdown",
   "metadata": {},
   "source": [
    "### Implementing Gradient Descent Algorithm"
   ]
  },
  {
   "cell_type": "markdown",
   "metadata": {},
   "source": [
    "#### Implementing the function to calculate the predicted output"
   ]
  },
  {
   "cell_type": "code",
   "execution_count": 10,
   "metadata": {},
   "outputs": [],
   "source": [
    "def output_lin_reg(X, theta):\n",
    "    \n",
    "    return (X @ theta)"
   ]
  },
  {
   "cell_type": "markdown",
   "metadata": {},
   "source": [
    "#### Equation of gradient descent update rule for linear regression"
   ]
  },
  {
   "cell_type": "markdown",
   "metadata": {},
   "source": [
    "$$ \\hat{\\theta}_j(t+1) := \\hat{\\theta}_j(t) - \\frac{\\alpha}{m} \\sum_{i=1}^{m} \\left(\\hat{\\theta}_0(t) + \\sum_{j=1}^{k} \\left( \\hat{\\theta}_j(t)~x_j^{(i)}\\right) - y^{(i)} \\right) x_j^{(i)}~~; ~j=0,1,2,...,k ~~\\&~~ x_0^{(i)} = 1~~for~~i = 1,2,...,m $$\n",
    "\n",
    "$$ \\hat{\\theta}_j(t+1) := \\hat{\\theta}_j(t) - \\frac{\\alpha}{m} \\sum_{i=1}^{m} \\left(\\hat{y}^{(i)} - y^{(i)} \\right) x_j^{(i)}~~; ~j=0,1,2,...,k ~~\\&~~ x_0^{(i)} = 1~~for~~i = 1,2,...,m $$"
   ]
  },
  {
   "cell_type": "code",
   "execution_count": 11,
   "metadata": {},
   "outputs": [],
   "source": [
    "def grad_des_lin_reg(X, y, alpha = 0.01, it = 1000, tol = 0.0001):\n",
    "    \n",
    "    assert (X.shape[0] == y.shape[0]), \"Dimension Mismatch\"\n",
    "    \n",
    "    m = X.shape[0]   # Number of training samples\n",
    "    X = np.c_[np.ones(m),X] # Inserting a column of all ones \n",
    "    k = X.shape[1]   # number of predictors (including the dummy predictor)\n",
    "    \n",
    "    np.random.seed(32)\n",
    "    theta = np.random.randn(k) # Initializing the model parameters with random values\n",
    "    \n",
    "    costs = []\n",
    "    count = 0\n",
    "    \n",
    "    for i in range(it):\n",
    "        y_pred = output_lin_reg (X, theta)\n",
    "        J = mse_cost(y, y_pred)\n",
    "        costs.append(J)\n",
    "        del_theta = (-1)*(alpha/m)*(X.T @ (y_pred - y))\n",
    "        theta += del_theta\n",
    "        if np.linalg.norm(del_theta) <= tol:\n",
    "            break\n",
    "        count += 1\n",
    "    \n",
    "    return theta, costs, count\n",
    "    "
   ]
  },
  {
   "cell_type": "markdown",
   "metadata": {},
   "source": [
    "### Running gradient descent algorithm"
   ]
  },
  {
   "cell_type": "code",
   "execution_count": 14,
   "metadata": {},
   "outputs": [],
   "source": [
    "theta, costs, count = grad_des_lin_reg(X_train, y_train, alpha = 0.1, it = 8000, tol = 0.0001)"
   ]
  },
  {
   "cell_type": "code",
   "execution_count": 15,
   "metadata": {},
   "outputs": [
    {
     "name": "stdout",
     "output_type": "stream",
     "text": [
      "theta: [31.37085478 -0.74317862  2.51919056 -1.8586919   9.50507313], \n",
      " number of iterations = 6064\n"
     ]
    }
   ],
   "source": [
    "print(\"theta: {}, \\n number of iterations = {}\".format(theta, count))"
   ]
  },
  {
   "cell_type": "markdown",
   "metadata": {},
   "source": [
    "### Plotting cost vs iterations"
   ]
  },
  {
   "cell_type": "code",
   "execution_count": 17,
   "metadata": {},
   "outputs": [
    {
     "data": {
      "image/png": "[encoded data removed]",
      "text/plain": [
       "<Figure size 864x288 with 1 Axes>"
      ]
     },
     "metadata": {},
     "output_type": "display_data"
    }
   ],
   "source": [
    "import matplotlib.pyplot as plt\n",
    "%matplotlib inline\n",
    "plt.figure(figsize = (12,4))\n",
    "plt.plot(costs)\n",
    "plt.title(\"Cost vs. Iterations\")\n",
    "plt.xlabel(\"MSE cost\")\n",
    "plt.ylabel(\"Iterations\")\n",
    "plt.show()"
   ]
  },
  {
   "cell_type": "markdown",
   "metadata": {},
   "source": [
    "### Predicting the model output on test dataset"
   ]
  },
  {
   "cell_type": "code",
   "execution_count": 18,
   "metadata": {},
   "outputs": [],
   "source": [
    "y_pred_test = output_lin_reg(np.c_[np.ones(X_test.shape[0]),X_test], theta)"
   ]
  },
  {
   "cell_type": "code",
   "execution_count": 19,
   "metadata": {},
   "outputs": [
    {
     "data": {
      "text/html": [
       "<div>\n",
       "<style scoped>\n",
       "    .dataframe tbody tr th:only-of-type {\n",
       "        vertical-align: middle;\n",
       "    }\n",
       "\n",
       "    .dataframe tbody tr th {\n",
       "        vertical-align: top;\n",
       "    }\n",
       "\n",
       "    .dataframe thead th {\n",
       "        text-align: right;\n",
       "    }\n",
       "</style>\n",
       "<table border=\"1\" class=\"dataframe\">\n",
       "  <thead>\n",
       "    <tr style=\"text-align: right;\">\n",
       "      <th></th>\n",
       "      <th>Actual Values</th>\n",
       "      <th>Predicted Values</th>\n",
       "    </tr>\n",
       "  </thead>\n",
       "  <tbody>\n",
       "    <tr>\n",
       "      <th>0</th>\n",
       "      <td>26.0</td>\n",
       "      <td>25.215271</td>\n",
       "    </tr>\n",
       "    <tr>\n",
       "      <th>1</th>\n",
       "      <td>23.0</td>\n",
       "      <td>25.586307</td>\n",
       "    </tr>\n",
       "    <tr>\n",
       "      <th>2</th>\n",
       "      <td>46.0</td>\n",
       "      <td>46.985116</td>\n",
       "    </tr>\n",
       "    <tr>\n",
       "      <th>3</th>\n",
       "      <td>34.0</td>\n",
       "      <td>33.792957</td>\n",
       "    </tr>\n",
       "    <tr>\n",
       "      <th>4</th>\n",
       "      <td>40.0</td>\n",
       "      <td>44.166344</td>\n",
       "    </tr>\n",
       "    <tr>\n",
       "      <th>5</th>\n",
       "      <td>33.0</td>\n",
       "      <td>29.794389</td>\n",
       "    </tr>\n",
       "    <tr>\n",
       "      <th>6</th>\n",
       "      <td>31.0</td>\n",
       "      <td>39.253580</td>\n",
       "    </tr>\n",
       "    <tr>\n",
       "      <th>7</th>\n",
       "      <td>36.0</td>\n",
       "      <td>32.073542</td>\n",
       "    </tr>\n",
       "  </tbody>\n",
       "</table>\n",
       "</div>"
      ],
      "text/plain": [
       "   Actual Values  Predicted Values\n",
       "0           26.0         25.215271\n",
       "1           23.0         25.586307\n",
       "2           46.0         46.985116\n",
       "3           34.0         33.792957\n",
       "4           40.0         44.166344\n",
       "5           33.0         29.794389\n",
       "6           31.0         39.253580\n",
       "7           36.0         32.073542"
      ]
     },
     "execution_count": 19,
     "metadata": {},
     "output_type": "execute_result"
    }
   ],
   "source": [
    "pd.DataFrame(np.c_[y_test, y_pred_test], columns = ['Actual Values', 'Predicted Values'])"
   ]
  },
  {
   "cell_type": "code",
   "execution_count": 20,
   "metadata": {},
   "outputs": [
    {
     "data": {
      "text/plain": [
       "7.468195273772615"
      ]
     },
     "execution_count": 20,
     "metadata": {},
     "output_type": "execute_result"
    }
   ],
   "source": [
    "mse_cost(y_test, y_pred_test)"
   ]
  },
  {
   "cell_type": "markdown",
   "metadata": {},
   "source": [
    "\n",
    "\n",
    "\n",
    "\n",
    "\n",
    "\n"
   ]
  },
  {
   "cell_type": "markdown",
   "metadata": {},
   "source": [
    "### Solving Linear Regression by Normal Equation"
   ]
  },
  {
   "cell_type": "code",
   "execution_count": 21,
   "metadata": {},
   "outputs": [],
   "source": [
    "X_t = np.c_[np.ones(X_train.shape[0]), X_train]\n",
    "\n",
    "theta_normal = (np.linalg.pinv(X_t.T @ X_t))@X_t.T@y_train"
   ]
  },
  {
   "cell_type": "code",
   "execution_count": 22,
   "metadata": {},
   "outputs": [
    {
     "data": {
      "text/plain": [
       "array([31.37186038, -0.72036499,  2.49219991, -1.9666942 ,  9.61630533])"
      ]
     },
     "execution_count": 22,
     "metadata": {},
     "output_type": "execute_result"
    }
   ],
   "source": [
    "theta_normal"
   ]
  },
  {
   "cell_type": "code",
   "execution_count": 23,
   "metadata": {},
   "outputs": [
    {
     "data": {
      "text/plain": [
       "array([31.37085478, -0.74317862,  2.51919056, -1.8586919 ,  9.50507313])"
      ]
     },
     "execution_count": 23,
     "metadata": {},
     "output_type": "execute_result"
    }
   ],
   "source": [
    "theta"
   ]
  },
  {
   "cell_type": "code",
   "execution_count": 24,
   "metadata": {},
   "outputs": [],
   "source": [
    "y_pred_test = output_lin_reg(np.c_[np.ones(X_test.shape[0]),X_test], theta_normal)"
   ]
  },
  {
   "cell_type": "code",
   "execution_count": 25,
   "metadata": {},
   "outputs": [
    {
     "data": {
      "text/html": [
       "<div>\n",
       "<style scoped>\n",
       "    .dataframe tbody tr th:only-of-type {\n",
       "        vertical-align: middle;\n",
       "    }\n",
       "\n",
       "    .dataframe tbody tr th {\n",
       "        vertical-align: top;\n",
       "    }\n",
       "\n",
       "    .dataframe thead th {\n",
       "        text-align: right;\n",
       "    }\n",
       "</style>\n",
       "<table border=\"1\" class=\"dataframe\">\n",
       "  <thead>\n",
       "    <tr style=\"text-align: right;\">\n",
       "      <th></th>\n",
       "      <th>Actual Values</th>\n",
       "      <th>Predicted Values</th>\n",
       "    </tr>\n",
       "  </thead>\n",
       "  <tbody>\n",
       "    <tr>\n",
       "      <th>0</th>\n",
       "      <td>26.0</td>\n",
       "      <td>25.196222</td>\n",
       "    </tr>\n",
       "    <tr>\n",
       "      <th>1</th>\n",
       "      <td>23.0</td>\n",
       "      <td>25.604835</td>\n",
       "    </tr>\n",
       "    <tr>\n",
       "      <th>2</th>\n",
       "      <td>46.0</td>\n",
       "      <td>47.031718</td>\n",
       "    </tr>\n",
       "    <tr>\n",
       "      <th>3</th>\n",
       "      <td>34.0</td>\n",
       "      <td>33.803820</td>\n",
       "    </tr>\n",
       "    <tr>\n",
       "      <th>4</th>\n",
       "      <td>40.0</td>\n",
       "      <td>44.165372</td>\n",
       "    </tr>\n",
       "    <tr>\n",
       "      <th>5</th>\n",
       "      <td>33.0</td>\n",
       "      <td>29.782427</td>\n",
       "    </tr>\n",
       "    <tr>\n",
       "      <th>6</th>\n",
       "      <td>31.0</td>\n",
       "      <td>39.238875</td>\n",
       "    </tr>\n",
       "    <tr>\n",
       "      <th>7</th>\n",
       "      <td>36.0</td>\n",
       "      <td>32.076262</td>\n",
       "    </tr>\n",
       "  </tbody>\n",
       "</table>\n",
       "</div>"
      ],
      "text/plain": [
       "   Actual Values  Predicted Values\n",
       "0           26.0         25.196222\n",
       "1           23.0         25.604835\n",
       "2           46.0         47.031718\n",
       "3           34.0         33.803820\n",
       "4           40.0         44.165372\n",
       "5           33.0         29.782427\n",
       "6           31.0         39.238875\n",
       "7           36.0         32.076262"
      ]
     },
     "execution_count": 25,
     "metadata": {},
     "output_type": "execute_result"
    }
   ],
   "source": [
    "pd.DataFrame(np.c_[y_test, y_pred_test], columns = ['Actual Values', 'Predicted Values'])"
   ]
  },
  {
   "cell_type": "code",
   "execution_count": 26,
   "metadata": {},
   "outputs": [
    {
     "data": {
      "text/plain": [
       "7.469502608524963"
      ]
     },
     "execution_count": 26,
     "metadata": {},
     "output_type": "execute_result"
    }
   ],
   "source": [
    "mse_cost(y_test, y_pred_test)"
   ]
  },
  {
   "cell_type": "markdown",
   "metadata": {},
   "source": [
    "### Solving Linear Regression by in-built function python library Scikit-Learn (sklearn)"
   ]
  },
  {
   "cell_type": "code",
   "execution_count": 27,
   "metadata": {},
   "outputs": [],
   "source": [
    "from sklearn.linear_model import LinearRegression "
   ]
  },
  {
   "cell_type": "code",
   "execution_count": 28,
   "metadata": {},
   "outputs": [],
   "source": [
    "model = LinearRegression().fit(X_train, y_train)"
   ]
  },
  {
   "cell_type": "code",
   "execution_count": 29,
   "metadata": {},
   "outputs": [
    {
     "data": {
      "text/plain": [
       "array([-0.72036499,  2.49219991, -1.9666942 ,  9.61630533])"
      ]
     },
     "execution_count": 29,
     "metadata": {},
     "output_type": "execute_result"
    }
   ],
   "source": [
    "model.coef_"
   ]
  },
  {
   "cell_type": "code",
   "execution_count": 30,
   "metadata": {},
   "outputs": [
    {
     "data": {
      "text/plain": [
       "31.371860377057633"
      ]
     },
     "execution_count": 30,
     "metadata": {},
     "output_type": "execute_result"
    }
   ],
   "source": [
    "model.intercept_"
   ]
  },
  {
   "cell_type": "code",
   "execution_count": 31,
   "metadata": {},
   "outputs": [],
   "source": [
    "y_pred_test = model.predict(X_test)"
   ]
  },
  {
   "cell_type": "code",
   "execution_count": 32,
   "metadata": {},
   "outputs": [
    {
     "data": {
      "text/html": [
       "<div>\n",
       "<style scoped>\n",
       "    .dataframe tbody tr th:only-of-type {\n",
       "        vertical-align: middle;\n",
       "    }\n",
       "\n",
       "    .dataframe tbody tr th {\n",
       "        vertical-align: top;\n",
       "    }\n",
       "\n",
       "    .dataframe thead th {\n",
       "        text-align: right;\n",
       "    }\n",
       "</style>\n",
       "<table border=\"1\" class=\"dataframe\">\n",
       "  <thead>\n",
       "    <tr style=\"text-align: right;\">\n",
       "      <th></th>\n",
       "      <th>Actual Values</th>\n",
       "      <th>Predicted Values</th>\n",
       "    </tr>\n",
       "  </thead>\n",
       "  <tbody>\n",
       "    <tr>\n",
       "      <th>0</th>\n",
       "      <td>26.0</td>\n",
       "      <td>25.196222</td>\n",
       "    </tr>\n",
       "    <tr>\n",
       "      <th>1</th>\n",
       "      <td>23.0</td>\n",
       "      <td>25.604835</td>\n",
       "    </tr>\n",
       "    <tr>\n",
       "      <th>2</th>\n",
       "      <td>46.0</td>\n",
       "      <td>47.031718</td>\n",
       "    </tr>\n",
       "    <tr>\n",
       "      <th>3</th>\n",
       "      <td>34.0</td>\n",
       "      <td>33.803820</td>\n",
       "    </tr>\n",
       "    <tr>\n",
       "      <th>4</th>\n",
       "      <td>40.0</td>\n",
       "      <td>44.165372</td>\n",
       "    </tr>\n",
       "    <tr>\n",
       "      <th>5</th>\n",
       "      <td>33.0</td>\n",
       "      <td>29.782427</td>\n",
       "    </tr>\n",
       "    <tr>\n",
       "      <th>6</th>\n",
       "      <td>31.0</td>\n",
       "      <td>39.238875</td>\n",
       "    </tr>\n",
       "    <tr>\n",
       "      <th>7</th>\n",
       "      <td>36.0</td>\n",
       "      <td>32.076262</td>\n",
       "    </tr>\n",
       "  </tbody>\n",
       "</table>\n",
       "</div>"
      ],
      "text/plain": [
       "   Actual Values  Predicted Values\n",
       "0           26.0         25.196222\n",
       "1           23.0         25.604835\n",
       "2           46.0         47.031718\n",
       "3           34.0         33.803820\n",
       "4           40.0         44.165372\n",
       "5           33.0         29.782427\n",
       "6           31.0         39.238875\n",
       "7           36.0         32.076262"
      ]
     },
     "execution_count": 32,
     "metadata": {},
     "output_type": "execute_result"
    }
   ],
   "source": [
    "pd.DataFrame(np.c_[y_test, y_pred_test], columns = ['Actual Values', 'Predicted Values'])"
   ]
  },
  {
   "cell_type": "code",
   "execution_count": 33,
   "metadata": {},
   "outputs": [
    {
     "data": {
      "text/plain": [
       "7.469502608524853"
      ]
     },
     "execution_count": 33,
     "metadata": {},
     "output_type": "execute_result"
    }
   ],
   "source": [
    "mse_cost(y_test, y_pred_test)"
   ]
  },
  {
   "cell_type": "code",
   "execution_count": null,
   "metadata": {},
   "outputs": [],
   "source": []
  }
 ],
 "metadata": {
  "kernelspec": {
   "display_name": "Python 3",
   "language": "python",
   "name": "python3"
  },
  "language_info": {
   "codemirror_mode": {
    "name": "ipython",
    "version": 3
   },
   "file_extension": ".py",
   "mimetype": "text/x-python",
   "name": "python",
   "nbconvert_exporter": "python",
   "pygments_lexer": "ipython3",
   "version": "3.7.5"
  }
 },
 "nbformat": 4,
 "nbformat_minor": 2
}
