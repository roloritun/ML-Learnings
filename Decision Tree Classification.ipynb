{
 "cells": [
  {
   "cell_type": "code",
   "execution_count": 1,
   "metadata": {},
   "outputs": [],
   "source": [
    "import numpy as np\n",
    "from sklearn.datasets import load_iris\n",
    "import random\n",
    "import matplotlib.pyplot as plt"
   ]
  },
  {
   "cell_type": "code",
   "execution_count": 2,
   "metadata": {},
   "outputs": [],
   "source": [
    "X,y = load_iris(return_X_y=True)"
   ]
  },
  {
   "cell_type": "markdown",
   "metadata": {},
   "source": [
    "## Splitting the dataset into training and test\n",
    "\n",
    "Here we shall use 75% training and 25% test data"
   ]
  },
  {
   "cell_type": "code",
   "execution_count": 3,
   "metadata": {},
   "outputs": [],
   "source": [
    "from sklearn.model_selection import train_test_split\n",
    "\n",
    "X_train, X_test, y_train, y_test = train_test_split(X,y, test_size = 0.25)"
   ]
  },
  {
   "cell_type": "code",
   "execution_count": 4,
   "metadata": {},
   "outputs": [
    {
     "data": {
      "text/plain": [
       "(112, 4)"
      ]
     },
     "execution_count": 4,
     "metadata": {},
     "output_type": "execute_result"
    }
   ],
   "source": [
    "X_train.shape"
   ]
  },
  {
   "cell_type": "code",
   "execution_count": 5,
   "metadata": {},
   "outputs": [
    {
     "data": {
      "text/plain": [
       "(38, 4)"
      ]
     },
     "execution_count": 5,
     "metadata": {},
     "output_type": "execute_result"
    }
   ],
   "source": [
    "X_test.shape"
   ]
  },
  {
   "cell_type": "markdown",
   "metadata": {},
   "source": [
    "## Creating the model"
   ]
  },
  {
   "cell_type": "code",
   "execution_count": 6,
   "metadata": {},
   "outputs": [],
   "source": [
    "from sklearn.tree import DecisionTreeClassifier  "
   ]
  },
  {
   "cell_type": "code",
   "execution_count": 7,
   "metadata": {},
   "outputs": [
    {
     "data": {
      "text/plain": [
       "DecisionTreeClassifier(class_weight=None, criterion='gini', max_depth=None,\n",
       "                       max_features=None, max_leaf_nodes=None,\n",
       "                       min_impurity_decrease=0.0, min_impurity_split=None,\n",
       "                       min_samples_leaf=1, min_samples_split=2,\n",
       "                       min_weight_fraction_leaf=0.0, presort=False,\n",
       "                       random_state=None, splitter='best')"
      ]
     },
     "execution_count": 7,
     "metadata": {},
     "output_type": "execute_result"
    }
   ],
   "source": [
    "clf = DecisionTreeClassifier()\n",
    "\n",
    "clf.fit(X_train, y_train)"
   ]
  },
  {
   "cell_type": "code",
   "execution_count": null,
   "metadata": {},
   "outputs": [],
   "source": []
  },
  {
   "cell_type": "markdown",
   "metadata": {},
   "source": [
    "### Testing / Predicting by the model"
   ]
  },
  {
   "cell_type": "code",
   "execution_count": 8,
   "metadata": {},
   "outputs": [],
   "source": [
    "y_pred = clf.predict(X_test)"
   ]
  },
  {
   "cell_type": "markdown",
   "metadata": {},
   "source": [
    "### Evaluating Model performance"
   ]
  },
  {
   "cell_type": "code",
   "execution_count": 9,
   "metadata": {},
   "outputs": [
    {
     "data": {
      "text/plain": [
       "array([[11,  0,  0],\n",
       "       [ 0, 14,  1],\n",
       "       [ 0,  2, 10]])"
      ]
     },
     "execution_count": 9,
     "metadata": {},
     "output_type": "execute_result"
    }
   ],
   "source": [
    "from sklearn.metrics import confusion_matrix\n",
    "\n",
    "cm = confusion_matrix(y_test, y_pred)\n",
    "\n",
    "cm"
   ]
  },
  {
   "cell_type": "code",
   "execution_count": 10,
   "metadata": {},
   "outputs": [
    {
     "name": "stdout",
     "output_type": "stream",
     "text": [
      "Total number of correct predictions: 35 out of: 38\n"
     ]
    }
   ],
   "source": [
    "corrects = np.trace(cm)\n",
    "total = np.sum(cm)\n",
    "\n",
    "print(\"Total number of correct predictions: {} out of: {}\".format(corrects, total))\n"
   ]
  },
  {
   "cell_type": "code",
   "execution_count": 11,
   "metadata": {},
   "outputs": [],
   "source": [
    "accuracy = 100*corrects/total"
   ]
  },
  {
   "cell_type": "code",
   "execution_count": 12,
   "metadata": {},
   "outputs": [
    {
     "name": "stdout",
     "output_type": "stream",
     "text": [
      "Accuracy of the model: 92.11%\n"
     ]
    }
   ],
   "source": [
    "print(\"Accuracy of the model: {:0.2f}%\".format(accuracy))"
   ]
  },
  {
   "cell_type": "code",
   "execution_count": 13,
   "metadata": {},
   "outputs": [
    {
     "name": "stdout",
     "output_type": "stream",
     "text": [
      "              precision    recall  f1-score   support\n",
      "\n",
      "           0       1.00      1.00      1.00        11\n",
      "           1       0.88      0.93      0.90        15\n",
      "           2       0.91      0.83      0.87        12\n",
      "\n",
      "    accuracy                           0.92        38\n",
      "   macro avg       0.93      0.92      0.92        38\n",
      "weighted avg       0.92      0.92      0.92        38\n",
      "\n"
     ]
    }
   ],
   "source": [
    "from sklearn.metrics import classification_report\n",
    "print(classification_report(y_test, y_pred))"
   ]
  },
  {
   "cell_type": "markdown",
   "metadata": {},
   "source": [
    "### Visualizing the tree"
   ]
  },
  {
   "cell_type": "code",
   "execution_count": 14,
   "metadata": {},
   "outputs": [],
   "source": [
    "import graphviz\n",
    "from sklearn.tree import export_graphviz"
   ]
  },
  {
   "cell_type": "code",
   "execution_count": 16,
   "metadata": {},
   "outputs": [
    {
     "data": {
      "image/svg+xml": [
       "<?xml version=\"1.0\" encoding=\"UTF-8\" standalone=\"no\"?>\n",
       "<!DOCTYPE svg PUBLIC \"-//W3C//DTD SVG 1.1//EN\"\n",
       " \"http://www.w3.org/Graphics/SVG/1.1/DTD/svg11.dtd\">\n",
       "<!-- Generated by graphviz version 2.43.0 (0)\n",
       " -->\n",
       "<!-- Title: Tree Pages: 1 -->\n",
       "<svg width=\"592pt\" height=\"658pt\"\n",
       " viewBox=\"0.00 0.00 592.04 658.00\" xmlns=\"http://www.w3.org/2000/svg\" xmlns:xlink=\"http://www.w3.org/1999/xlink\">\n",
       "<g id=\"graph0\" class=\"graph\" transform=\"scale(1 1) rotate(0) translate(4 654)\">\n",
       "<title>Tree</title>\n",
       "<polygon fill=\"white\" stroke=\"transparent\" points=\"-4,4 -4,-654 588.04,-654 588.04,4 -4,4\"/>\n",
       "<!-- 0 -->\n",
       "<g id=\"node1\" class=\"node\">\n",
       "<title>0</title>\n",
       "<polygon fill=\"none\" stroke=\"black\" points=\"332.81,-650 206.73,-650 206.73,-586 332.81,-586 332.81,-650\"/>\n",
       "<text text-anchor=\"middle\" x=\"269.77\" y=\"-634.8\" font-family=\"Times,serif\" font-size=\"14.00\">X[2] &lt;= 2.45</text>\n",
       "<text text-anchor=\"middle\" x=\"269.77\" y=\"-620.8\" font-family=\"Times,serif\" font-size=\"14.00\">gini = 0.666</text>\n",
       "<text text-anchor=\"middle\" x=\"269.77\" y=\"-606.8\" font-family=\"Times,serif\" font-size=\"14.00\">samples = 112</text>\n",
       "<text text-anchor=\"middle\" x=\"269.77\" y=\"-592.8\" font-family=\"Times,serif\" font-size=\"14.00\">value = [39, 35, 38]</text>\n",
       "</g>\n",
       "<!-- 1 -->\n",
       "<g id=\"node2\" class=\"node\">\n",
       "<title>1</title>\n",
       "<polygon fill=\"none\" stroke=\"black\" points=\"258.81,-543 146.73,-543 146.73,-493 258.81,-493 258.81,-543\"/>\n",
       "<text text-anchor=\"middle\" x=\"202.77\" y=\"-527.8\" font-family=\"Times,serif\" font-size=\"14.00\">gini = 0.0</text>\n",
       "<text text-anchor=\"middle\" x=\"202.77\" y=\"-513.8\" font-family=\"Times,serif\" font-size=\"14.00\">samples = 39</text>\n",
       "<text text-anchor=\"middle\" x=\"202.77\" y=\"-499.8\" font-family=\"Times,serif\" font-size=\"14.00\">value = [39, 0, 0]</text>\n",
       "</g>\n",
       "<!-- 0&#45;&gt;1 -->\n",
       "<g id=\"edge1\" class=\"edge\">\n",
       "<title>0&#45;&gt;1</title>\n",
       "<path fill=\"none\" stroke=\"black\" d=\"M248.57,-585.99C241.13,-575.11 232.75,-562.85 225.21,-551.82\"/>\n",
       "<polygon fill=\"black\" stroke=\"black\" points=\"227.91,-549.57 219.37,-543.29 222.13,-553.52 227.91,-549.57\"/>\n",
       "<text text-anchor=\"middle\" x=\"214.76\" y=\"-563.66\" font-family=\"Times,serif\" font-size=\"14.00\">True</text>\n",
       "</g>\n",
       "<!-- 2 -->\n",
       "<g id=\"node3\" class=\"node\">\n",
       "<title>2</title>\n",
       "<polygon fill=\"none\" stroke=\"black\" points=\"396.31,-550 277.23,-550 277.23,-486 396.31,-486 396.31,-550\"/>\n",
       "<text text-anchor=\"middle\" x=\"336.77\" y=\"-534.8\" font-family=\"Times,serif\" font-size=\"14.00\">X[3] &lt;= 1.75</text>\n",
       "<text text-anchor=\"middle\" x=\"336.77\" y=\"-520.8\" font-family=\"Times,serif\" font-size=\"14.00\">gini = 0.499</text>\n",
       "<text text-anchor=\"middle\" x=\"336.77\" y=\"-506.8\" font-family=\"Times,serif\" font-size=\"14.00\">samples = 73</text>\n",
       "<text text-anchor=\"middle\" x=\"336.77\" y=\"-492.8\" font-family=\"Times,serif\" font-size=\"14.00\">value = [0, 35, 38]</text>\n",
       "</g>\n",
       "<!-- 0&#45;&gt;2 -->\n",
       "<g id=\"edge2\" class=\"edge\">\n",
       "<title>0&#45;&gt;2</title>\n",
       "<path fill=\"none\" stroke=\"black\" d=\"M290.97,-585.99C296.96,-577.23 303.55,-567.58 309.83,-558.4\"/>\n",
       "<polygon fill=\"black\" stroke=\"black\" points=\"312.72,-560.37 315.48,-550.14 306.94,-556.42 312.72,-560.37\"/>\n",
       "<text text-anchor=\"middle\" x=\"320.09\" y=\"-570.51\" font-family=\"Times,serif\" font-size=\"14.00\">False</text>\n",
       "</g>\n",
       "<!-- 3 -->\n",
       "<g id=\"node4\" class=\"node\">\n",
       "<title>3</title>\n",
       "<polygon fill=\"none\" stroke=\"black\" points=\"327.81,-450 215.73,-450 215.73,-386 327.81,-386 327.81,-450\"/>\n",
       "<text text-anchor=\"middle\" x=\"271.77\" y=\"-434.8\" font-family=\"Times,serif\" font-size=\"14.00\">X[2] &lt;= 5.35</text>\n",
       "<text text-anchor=\"middle\" x=\"271.77\" y=\"-420.8\" font-family=\"Times,serif\" font-size=\"14.00\">gini = 0.188</text>\n",
       "<text text-anchor=\"middle\" x=\"271.77\" y=\"-406.8\" font-family=\"Times,serif\" font-size=\"14.00\">samples = 38</text>\n",
       "<text text-anchor=\"middle\" x=\"271.77\" y=\"-392.8\" font-family=\"Times,serif\" font-size=\"14.00\">value = [0, 34, 4]</text>\n",
       "</g>\n",
       "<!-- 2&#45;&gt;3 -->\n",
       "<g id=\"edge3\" class=\"edge\">\n",
       "<title>2&#45;&gt;3</title>\n",
       "<path fill=\"none\" stroke=\"black\" d=\"M316.2,-485.99C310.45,-477.32 304.12,-467.78 298.09,-458.68\"/>\n",
       "<polygon fill=\"black\" stroke=\"black\" points=\"300.87,-456.54 292.42,-450.14 295.03,-460.41 300.87,-456.54\"/>\n",
       "</g>\n",
       "<!-- 12 -->\n",
       "<g id=\"node13\" class=\"node\">\n",
       "<title>12</title>\n",
       "<polygon fill=\"none\" stroke=\"black\" points=\"458.81,-450 346.73,-450 346.73,-386 458.81,-386 458.81,-450\"/>\n",
       "<text text-anchor=\"middle\" x=\"402.77\" y=\"-434.8\" font-family=\"Times,serif\" font-size=\"14.00\">X[2] &lt;= 4.85</text>\n",
       "<text text-anchor=\"middle\" x=\"402.77\" y=\"-420.8\" font-family=\"Times,serif\" font-size=\"14.00\">gini = 0.056</text>\n",
       "<text text-anchor=\"middle\" x=\"402.77\" y=\"-406.8\" font-family=\"Times,serif\" font-size=\"14.00\">samples = 35</text>\n",
       "<text text-anchor=\"middle\" x=\"402.77\" y=\"-392.8\" font-family=\"Times,serif\" font-size=\"14.00\">value = [0, 1, 34]</text>\n",
       "</g>\n",
       "<!-- 2&#45;&gt;12 -->\n",
       "<g id=\"edge12\" class=\"edge\">\n",
       "<title>2&#45;&gt;12</title>\n",
       "<path fill=\"none\" stroke=\"black\" d=\"M357.65,-485.99C363.49,-477.32 369.92,-467.78 376.04,-458.68\"/>\n",
       "<polygon fill=\"black\" stroke=\"black\" points=\"379.11,-460.39 381.8,-450.14 373.31,-456.48 379.11,-460.39\"/>\n",
       "</g>\n",
       "<!-- 4 -->\n",
       "<g id=\"node5\" class=\"node\">\n",
       "<title>4</title>\n",
       "<polygon fill=\"none\" stroke=\"black\" points=\"202.81,-350 90.73,-350 90.73,-286 202.81,-286 202.81,-350\"/>\n",
       "<text text-anchor=\"middle\" x=\"146.77\" y=\"-334.8\" font-family=\"Times,serif\" font-size=\"14.00\">X[0] &lt;= 4.95</text>\n",
       "<text text-anchor=\"middle\" x=\"146.77\" y=\"-320.8\" font-family=\"Times,serif\" font-size=\"14.00\">gini = 0.105</text>\n",
       "<text text-anchor=\"middle\" x=\"146.77\" y=\"-306.8\" font-family=\"Times,serif\" font-size=\"14.00\">samples = 36</text>\n",
       "<text text-anchor=\"middle\" x=\"146.77\" y=\"-292.8\" font-family=\"Times,serif\" font-size=\"14.00\">value = [0, 34, 2]</text>\n",
       "</g>\n",
       "<!-- 3&#45;&gt;4 -->\n",
       "<g id=\"edge4\" class=\"edge\">\n",
       "<title>3&#45;&gt;4</title>\n",
       "<path fill=\"none\" stroke=\"black\" d=\"M232.22,-385.99C220.25,-376.61 206.98,-366.2 194.53,-356.44\"/>\n",
       "<polygon fill=\"black\" stroke=\"black\" points=\"196.52,-353.56 186.49,-350.14 192.2,-359.07 196.52,-353.56\"/>\n",
       "</g>\n",
       "<!-- 11 -->\n",
       "<g id=\"node12\" class=\"node\">\n",
       "<title>11</title>\n",
       "<polygon fill=\"none\" stroke=\"black\" points=\"326.31,-343 221.23,-343 221.23,-293 326.31,-293 326.31,-343\"/>\n",
       "<text text-anchor=\"middle\" x=\"273.77\" y=\"-327.8\" font-family=\"Times,serif\" font-size=\"14.00\">gini = 0.0</text>\n",
       "<text text-anchor=\"middle\" x=\"273.77\" y=\"-313.8\" font-family=\"Times,serif\" font-size=\"14.00\">samples = 2</text>\n",
       "<text text-anchor=\"middle\" x=\"273.77\" y=\"-299.8\" font-family=\"Times,serif\" font-size=\"14.00\">value = [0, 0, 2]</text>\n",
       "</g>\n",
       "<!-- 3&#45;&gt;11 -->\n",
       "<g id=\"edge11\" class=\"edge\">\n",
       "<title>3&#45;&gt;11</title>\n",
       "<path fill=\"none\" stroke=\"black\" d=\"M272.4,-385.99C272.61,-375.65 272.85,-364.06 273.07,-353.46\"/>\n",
       "<polygon fill=\"black\" stroke=\"black\" points=\"276.57,-353.36 273.27,-343.29 269.57,-353.21 276.57,-353.36\"/>\n",
       "</g>\n",
       "<!-- 5 -->\n",
       "<g id=\"node6\" class=\"node\">\n",
       "<title>5</title>\n",
       "<polygon fill=\"none\" stroke=\"black\" points=\"105.31,-243 0.23,-243 0.23,-193 105.31,-193 105.31,-243\"/>\n",
       "<text text-anchor=\"middle\" x=\"52.77\" y=\"-227.8\" font-family=\"Times,serif\" font-size=\"14.00\">gini = 0.0</text>\n",
       "<text text-anchor=\"middle\" x=\"52.77\" y=\"-213.8\" font-family=\"Times,serif\" font-size=\"14.00\">samples = 1</text>\n",
       "<text text-anchor=\"middle\" x=\"52.77\" y=\"-199.8\" font-family=\"Times,serif\" font-size=\"14.00\">value = [0, 0, 1]</text>\n",
       "</g>\n",
       "<!-- 4&#45;&gt;5 -->\n",
       "<g id=\"edge5\" class=\"edge\">\n",
       "<title>4&#45;&gt;5</title>\n",
       "<path fill=\"none\" stroke=\"black\" d=\"M117.03,-285.99C106.17,-274.68 93.89,-261.87 83,-250.51\"/>\n",
       "<polygon fill=\"black\" stroke=\"black\" points=\"85.51,-248.08 76.06,-243.29 80.46,-252.93 85.51,-248.08\"/>\n",
       "</g>\n",
       "<!-- 6 -->\n",
       "<g id=\"node7\" class=\"node\">\n",
       "<title>6</title>\n",
       "<polygon fill=\"none\" stroke=\"black\" points=\"235.81,-250 123.73,-250 123.73,-186 235.81,-186 235.81,-250\"/>\n",
       "<text text-anchor=\"middle\" x=\"179.77\" y=\"-234.8\" font-family=\"Times,serif\" font-size=\"14.00\">X[2] &lt;= 4.95</text>\n",
       "<text text-anchor=\"middle\" x=\"179.77\" y=\"-220.8\" font-family=\"Times,serif\" font-size=\"14.00\">gini = 0.056</text>\n",
       "<text text-anchor=\"middle\" x=\"179.77\" y=\"-206.8\" font-family=\"Times,serif\" font-size=\"14.00\">samples = 35</text>\n",
       "<text text-anchor=\"middle\" x=\"179.77\" y=\"-192.8\" font-family=\"Times,serif\" font-size=\"14.00\">value = [0, 34, 1]</text>\n",
       "</g>\n",
       "<!-- 4&#45;&gt;6 -->\n",
       "<g id=\"edge6\" class=\"edge\">\n",
       "<title>4&#45;&gt;6</title>\n",
       "<path fill=\"none\" stroke=\"black\" d=\"M157.21,-285.99C160.01,-277.68 163.08,-268.57 166.03,-259.81\"/>\n",
       "<polygon fill=\"black\" stroke=\"black\" points=\"169.41,-260.74 169.28,-250.14 162.77,-258.5 169.41,-260.74\"/>\n",
       "</g>\n",
       "<!-- 7 -->\n",
       "<g id=\"node8\" class=\"node\">\n",
       "<title>7</title>\n",
       "<polygon fill=\"none\" stroke=\"black\" points=\"172.81,-143 60.73,-143 60.73,-93 172.81,-93 172.81,-143\"/>\n",
       "<text text-anchor=\"middle\" x=\"116.77\" y=\"-127.8\" font-family=\"Times,serif\" font-size=\"14.00\">gini = 0.0</text>\n",
       "<text text-anchor=\"middle\" x=\"116.77\" y=\"-113.8\" font-family=\"Times,serif\" font-size=\"14.00\">samples = 32</text>\n",
       "<text text-anchor=\"middle\" x=\"116.77\" y=\"-99.8\" font-family=\"Times,serif\" font-size=\"14.00\">value = [0, 32, 0]</text>\n",
       "</g>\n",
       "<!-- 6&#45;&gt;7 -->\n",
       "<g id=\"edge7\" class=\"edge\">\n",
       "<title>6&#45;&gt;7</title>\n",
       "<path fill=\"none\" stroke=\"black\" d=\"M159.83,-185.99C152.84,-175.11 144.96,-162.85 137.87,-151.82\"/>\n",
       "<polygon fill=\"black\" stroke=\"black\" points=\"140.73,-149.81 132.38,-143.29 134.85,-153.59 140.73,-149.81\"/>\n",
       "</g>\n",
       "<!-- 8 -->\n",
       "<g id=\"node9\" class=\"node\">\n",
       "<title>8</title>\n",
       "<polygon fill=\"none\" stroke=\"black\" points=\"296.31,-150 191.23,-150 191.23,-86 296.31,-86 296.31,-150\"/>\n",
       "<text text-anchor=\"middle\" x=\"243.77\" y=\"-134.8\" font-family=\"Times,serif\" font-size=\"14.00\">X[1] &lt;= 2.45</text>\n",
       "<text text-anchor=\"middle\" x=\"243.77\" y=\"-120.8\" font-family=\"Times,serif\" font-size=\"14.00\">gini = 0.444</text>\n",
       "<text text-anchor=\"middle\" x=\"243.77\" y=\"-106.8\" font-family=\"Times,serif\" font-size=\"14.00\">samples = 3</text>\n",
       "<text text-anchor=\"middle\" x=\"243.77\" y=\"-92.8\" font-family=\"Times,serif\" font-size=\"14.00\">value = [0, 2, 1]</text>\n",
       "</g>\n",
       "<!-- 6&#45;&gt;8 -->\n",
       "<g id=\"edge8\" class=\"edge\">\n",
       "<title>6&#45;&gt;8</title>\n",
       "<path fill=\"none\" stroke=\"black\" d=\"M200.02,-185.99C205.68,-177.32 211.91,-167.78 217.85,-158.68\"/>\n",
       "<polygon fill=\"black\" stroke=\"black\" points=\"220.89,-160.43 223.43,-150.14 215.03,-156.6 220.89,-160.43\"/>\n",
       "</g>\n",
       "<!-- 9 -->\n",
       "<g id=\"node10\" class=\"node\">\n",
       "<title>9</title>\n",
       "<polygon fill=\"none\" stroke=\"black\" points=\"234.31,-50 129.23,-50 129.23,0 234.31,0 234.31,-50\"/>\n",
       "<text text-anchor=\"middle\" x=\"181.77\" y=\"-34.8\" font-family=\"Times,serif\" font-size=\"14.00\">gini = 0.0</text>\n",
       "<text text-anchor=\"middle\" x=\"181.77\" y=\"-20.8\" font-family=\"Times,serif\" font-size=\"14.00\">samples = 1</text>\n",
       "<text text-anchor=\"middle\" x=\"181.77\" y=\"-6.8\" font-family=\"Times,serif\" font-size=\"14.00\">value = [0, 0, 1]</text>\n",
       "</g>\n",
       "<!-- 8&#45;&gt;9 -->\n",
       "<g id=\"edge9\" class=\"edge\">\n",
       "<title>8&#45;&gt;9</title>\n",
       "<path fill=\"none\" stroke=\"black\" d=\"M222.61,-85.94C216.54,-77.04 209.92,-67.32 203.81,-58.35\"/>\n",
       "<polygon fill=\"black\" stroke=\"black\" points=\"206.66,-56.32 198.14,-50.03 200.88,-60.26 206.66,-56.32\"/>\n",
       "</g>\n",
       "<!-- 10 -->\n",
       "<g id=\"node11\" class=\"node\">\n",
       "<title>10</title>\n",
       "<polygon fill=\"none\" stroke=\"black\" points=\"358.31,-50 253.23,-50 253.23,0 358.31,0 358.31,-50\"/>\n",
       "<text text-anchor=\"middle\" x=\"305.77\" y=\"-34.8\" font-family=\"Times,serif\" font-size=\"14.00\">gini = 0.0</text>\n",
       "<text text-anchor=\"middle\" x=\"305.77\" y=\"-20.8\" font-family=\"Times,serif\" font-size=\"14.00\">samples = 2</text>\n",
       "<text text-anchor=\"middle\" x=\"305.77\" y=\"-6.8\" font-family=\"Times,serif\" font-size=\"14.00\">value = [0, 2, 0]</text>\n",
       "</g>\n",
       "<!-- 8&#45;&gt;10 -->\n",
       "<g id=\"edge10\" class=\"edge\">\n",
       "<title>8&#45;&gt;10</title>\n",
       "<path fill=\"none\" stroke=\"black\" d=\"M264.93,-85.94C270.99,-77.04 277.61,-67.32 283.73,-58.35\"/>\n",
       "<polygon fill=\"black\" stroke=\"black\" points=\"286.66,-60.26 289.4,-50.03 280.87,-56.32 286.66,-60.26\"/>\n",
       "</g>\n",
       "<!-- 13 -->\n",
       "<g id=\"node14\" class=\"node\">\n",
       "<title>13</title>\n",
       "<polygon fill=\"none\" stroke=\"black\" points=\"453.31,-350 348.23,-350 348.23,-286 453.31,-286 453.31,-350\"/>\n",
       "<text text-anchor=\"middle\" x=\"400.77\" y=\"-334.8\" font-family=\"Times,serif\" font-size=\"14.00\">X[0] &lt;= 6.05</text>\n",
       "<text text-anchor=\"middle\" x=\"400.77\" y=\"-320.8\" font-family=\"Times,serif\" font-size=\"14.00\">gini = 0.5</text>\n",
       "<text text-anchor=\"middle\" x=\"400.77\" y=\"-306.8\" font-family=\"Times,serif\" font-size=\"14.00\">samples = 2</text>\n",
       "<text text-anchor=\"middle\" x=\"400.77\" y=\"-292.8\" font-family=\"Times,serif\" font-size=\"14.00\">value = [0, 1, 1]</text>\n",
       "</g>\n",
       "<!-- 12&#45;&gt;13 -->\n",
       "<g id=\"edge13\" class=\"edge\">\n",
       "<title>12&#45;&gt;13</title>\n",
       "<path fill=\"none\" stroke=\"black\" d=\"M402.14,-385.99C401.97,-377.86 401.79,-368.96 401.61,-360.38\"/>\n",
       "<polygon fill=\"black\" stroke=\"black\" points=\"405.11,-360.07 401.4,-350.14 398.11,-360.21 405.11,-360.07\"/>\n",
       "</g>\n",
       "<!-- 16 -->\n",
       "<g id=\"node17\" class=\"node\">\n",
       "<title>16</title>\n",
       "<polygon fill=\"none\" stroke=\"black\" points=\"583.81,-343 471.73,-343 471.73,-293 583.81,-293 583.81,-343\"/>\n",
       "<text text-anchor=\"middle\" x=\"527.77\" y=\"-327.8\" font-family=\"Times,serif\" font-size=\"14.00\">gini = 0.0</text>\n",
       "<text text-anchor=\"middle\" x=\"527.77\" y=\"-313.8\" font-family=\"Times,serif\" font-size=\"14.00\">samples = 33</text>\n",
       "<text text-anchor=\"middle\" x=\"527.77\" y=\"-299.8\" font-family=\"Times,serif\" font-size=\"14.00\">value = [0, 0, 33]</text>\n",
       "</g>\n",
       "<!-- 12&#45;&gt;16 -->\n",
       "<g id=\"edge16\" class=\"edge\">\n",
       "<title>12&#45;&gt;16</title>\n",
       "<path fill=\"none\" stroke=\"black\" d=\"M442.32,-385.99C457.17,-374.35 474.02,-361.14 488.81,-349.54\"/>\n",
       "<polygon fill=\"black\" stroke=\"black\" points=\"491.08,-352.21 496.79,-343.29 486.76,-346.7 491.08,-352.21\"/>\n",
       "</g>\n",
       "<!-- 14 -->\n",
       "<g id=\"node15\" class=\"node\">\n",
       "<title>14</title>\n",
       "<polygon fill=\"none\" stroke=\"black\" points=\"421.31,-243 316.23,-243 316.23,-193 421.31,-193 421.31,-243\"/>\n",
       "<text text-anchor=\"middle\" x=\"368.77\" y=\"-227.8\" font-family=\"Times,serif\" font-size=\"14.00\">gini = 0.0</text>\n",
       "<text text-anchor=\"middle\" x=\"368.77\" y=\"-213.8\" font-family=\"Times,serif\" font-size=\"14.00\">samples = 1</text>\n",
       "<text text-anchor=\"middle\" x=\"368.77\" y=\"-199.8\" font-family=\"Times,serif\" font-size=\"14.00\">value = [0, 1, 0]</text>\n",
       "</g>\n",
       "<!-- 13&#45;&gt;14 -->\n",
       "<g id=\"edge14\" class=\"edge\">\n",
       "<title>13&#45;&gt;14</title>\n",
       "<path fill=\"none\" stroke=\"black\" d=\"M390.64,-285.99C387.19,-275.43 383.32,-263.57 379.81,-252.8\"/>\n",
       "<polygon fill=\"black\" stroke=\"black\" points=\"383.13,-251.71 376.7,-243.29 376.48,-253.88 383.13,-251.71\"/>\n",
       "</g>\n",
       "<!-- 15 -->\n",
       "<g id=\"node16\" class=\"node\">\n",
       "<title>15</title>\n",
       "<polygon fill=\"none\" stroke=\"black\" points=\"545.31,-243 440.23,-243 440.23,-193 545.31,-193 545.31,-243\"/>\n",
       "<text text-anchor=\"middle\" x=\"492.77\" y=\"-227.8\" font-family=\"Times,serif\" font-size=\"14.00\">gini = 0.0</text>\n",
       "<text text-anchor=\"middle\" x=\"492.77\" y=\"-213.8\" font-family=\"Times,serif\" font-size=\"14.00\">samples = 1</text>\n",
       "<text text-anchor=\"middle\" x=\"492.77\" y=\"-199.8\" font-family=\"Times,serif\" font-size=\"14.00\">value = [0, 0, 1]</text>\n",
       "</g>\n",
       "<!-- 13&#45;&gt;15 -->\n",
       "<g id=\"edge15\" class=\"edge\">\n",
       "<title>13&#45;&gt;15</title>\n",
       "<path fill=\"none\" stroke=\"black\" d=\"M429.88,-285.99C440.4,-274.78 452.29,-262.12 462.88,-250.84\"/>\n",
       "<polygon fill=\"black\" stroke=\"black\" points=\"465.68,-252.97 469.97,-243.29 460.57,-248.18 465.68,-252.97\"/>\n",
       "</g>\n",
       "</g>\n",
       "</svg>\n"
      ],
      "text/plain": [
       "<graphviz.files.Source at 0x1a212e3ed0>"
      ]
     },
     "metadata": {},
     "output_type": "display_data"
    }
   ],
   "source": [
    "from IPython.display import display\n",
    "\n",
    "display(graphviz.Source(export_graphviz(clf)))"
   ]
  },
  {
   "cell_type": "code",
   "execution_count": null,
   "metadata": {},
   "outputs": [],
   "source": []
  },
  {
   "cell_type": "code",
   "execution_count": null,
   "metadata": {},
   "outputs": [],
   "source": []
  }
 ],
 "metadata": {
  "kernelspec": {
   "display_name": "Python 3",
   "language": "python",
   "name": "python3"
  },
  "language_info": {
   "codemirror_mode": {
    "name": "ipython",
    "version": 3
   },
   "file_extension": ".py",
   "mimetype": "text/x-python",
   "name": "python",
   "nbconvert_exporter": "python",
   "pygments_lexer": "ipython3",
   "version": "3.7.5"
  }
 },
 "nbformat": 4,
 "nbformat_minor": 2
}
